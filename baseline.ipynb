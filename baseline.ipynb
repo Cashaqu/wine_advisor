{
 "cells": [
  {
   "cell_type": "code",
   "execution_count": 125,
   "outputs": [],
   "source": [
    "from gensim.parsing.preprocessing import preprocess_documents, remove_stopwords, remove_short_tokens\n",
    "from gensim.parsing.preprocessing import strip_punctuation\n",
    "from gensim.models.doc2vec import Doc2Vec, TaggedDocument\n",
    "\n",
    "from nltk.tokenize import word_tokenize\n",
    "from nltk.stem import WordNetLemmatizer\n",
    "wnl = WordNetLemmatizer()\n",
    "from datetime import datetime\n",
    "import pandas as pd"
   ],
   "metadata": {
    "collapsed": false,
    "ExecuteTime": {
     "end_time": "2023-09-09T19:59:36.071035400Z",
     "start_time": "2023-09-09T19:59:36.008037300Z"
    }
   },
   "id": "fa7d05600a948148"
  },
  {
   "cell_type": "code",
   "execution_count": 126,
   "outputs": [
    {
     "data": {
      "text/plain": "        Unnamed: 0   country  \\\n0                0     Italy   \n1                1  Portugal   \n2                2        US   \n3                3        US   \n4                4        US   \n...            ...       ...   \n129966      129966   Germany   \n129967      129967        US   \n129968      129968    France   \n129969      129969    France   \n129970      129970    France   \n\n                                              description  \\\n0       Aromas include tropical fruit, broom, brimston...   \n1       This is ripe and fruity, a wine that is smooth...   \n2       Tart and snappy, the flavors of lime flesh and...   \n3       Pineapple rind, lemon pith and orange blossom ...   \n4       Much like the regular bottling from 2012, this...   \n...                                                   ...   \n129966  Notes of honeysuckle and cantaloupe sweeten th...   \n129967  Citation is given as much as a decade of bottl...   \n129968  Well-drained gravel soil gives this wine its c...   \n129969  A dry style of Pinot Gris, this is crisp with ...   \n129970  Big, rich and off-dry, this is powered by inte...   \n\n                                   designation  points  price  \\\n0                                 Vulkà Bianco      87    NaN   \n1                                     Avidagos      87   15.0   \n2                                          NaN      87   14.0   \n3                         Reserve Late Harvest      87   13.0   \n4           Vintner's Reserve Wild Child Block      87   65.0   \n...                                        ...     ...    ...   \n129966  Brauneberger Juffer-Sonnenuhr Spätlese      90   28.0   \n129967                                     NaN      90   75.0   \n129968                                   Kritt      90   30.0   \n129969                                     NaN      90   32.0   \n129970           Lieu-dit Harth Cuvée Caroline      90   21.0   \n\n                 province             region_1           region_2  \\\n0       Sicily & Sardinia                 Etna                NaN   \n1                   Douro                  NaN                NaN   \n2                  Oregon    Willamette Valley  Willamette Valley   \n3                Michigan  Lake Michigan Shore                NaN   \n4                  Oregon    Willamette Valley  Willamette Valley   \n...                   ...                  ...                ...   \n129966              Mosel                  NaN                NaN   \n129967             Oregon               Oregon       Oregon Other   \n129968             Alsace               Alsace                NaN   \n129969             Alsace               Alsace                NaN   \n129970             Alsace               Alsace                NaN   \n\n               taster_name taster_twitter_handle  \\\n0            Kerin O’Keefe          @kerinokeefe   \n1               Roger Voss            @vossroger   \n2             Paul Gregutt           @paulgwine    \n3       Alexander Peartree                   NaN   \n4             Paul Gregutt           @paulgwine    \n...                    ...                   ...   \n129966  Anna Lee C. Iijima                   NaN   \n129967        Paul Gregutt           @paulgwine    \n129968          Roger Voss            @vossroger   \n129969          Roger Voss            @vossroger   \n129970          Roger Voss            @vossroger   \n\n                                                    title         variety  \\\n0                       Nicosia 2013 Vulkà Bianco  (Etna)     White Blend   \n1           Quinta dos Avidagos 2011 Avidagos Red (Douro)  Portuguese Red   \n2           Rainstorm 2013 Pinot Gris (Willamette Valley)      Pinot Gris   \n3       St. Julian 2013 Reserve Late Harvest Riesling ...        Riesling   \n4       Sweet Cheeks 2012 Vintner's Reserve Wild Child...      Pinot Noir   \n...                                                   ...             ...   \n129966  Dr. H. Thanisch (Erben Müller-Burggraef) 2013 ...        Riesling   \n129967                  Citation 2004 Pinot Noir (Oregon)      Pinot Noir   \n129968  Domaine Gresser 2013 Kritt Gewurztraminer (Als...  Gewürztraminer   \n129969      Domaine Marcel Deiss 2012 Pinot Gris (Alsace)      Pinot Gris   \n129970  Domaine Schoffit 2012 Lieu-dit Harth Cuvée Car...  Gewürztraminer   \n\n                                          winery  \n0                                        Nicosia  \n1                            Quinta dos Avidagos  \n2                                      Rainstorm  \n3                                     St. Julian  \n4                                   Sweet Cheeks  \n...                                          ...  \n129966  Dr. H. Thanisch (Erben Müller-Burggraef)  \n129967                                  Citation  \n129968                           Domaine Gresser  \n129969                      Domaine Marcel Deiss  \n129970                          Domaine Schoffit  \n\n[129971 rows x 14 columns]",
      "text/html": "<div>\n<style scoped>\n    .dataframe tbody tr th:only-of-type {\n        vertical-align: middle;\n    }\n\n    .dataframe tbody tr th {\n        vertical-align: top;\n    }\n\n    .dataframe thead th {\n        text-align: right;\n    }\n</style>\n<table border=\"1\" class=\"dataframe\">\n  <thead>\n    <tr style=\"text-align: right;\">\n      <th></th>\n      <th>Unnamed: 0</th>\n      <th>country</th>\n      <th>description</th>\n      <th>designation</th>\n      <th>points</th>\n      <th>price</th>\n      <th>province</th>\n      <th>region_1</th>\n      <th>region_2</th>\n      <th>taster_name</th>\n      <th>taster_twitter_handle</th>\n      <th>title</th>\n      <th>variety</th>\n      <th>winery</th>\n    </tr>\n  </thead>\n  <tbody>\n    <tr>\n      <th>0</th>\n      <td>0</td>\n      <td>Italy</td>\n      <td>Aromas include tropical fruit, broom, brimston...</td>\n      <td>Vulkà Bianco</td>\n      <td>87</td>\n      <td>NaN</td>\n      <td>Sicily &amp; Sardinia</td>\n      <td>Etna</td>\n      <td>NaN</td>\n      <td>Kerin O’Keefe</td>\n      <td>@kerinokeefe</td>\n      <td>Nicosia 2013 Vulkà Bianco  (Etna)</td>\n      <td>White Blend</td>\n      <td>Nicosia</td>\n    </tr>\n    <tr>\n      <th>1</th>\n      <td>1</td>\n      <td>Portugal</td>\n      <td>This is ripe and fruity, a wine that is smooth...</td>\n      <td>Avidagos</td>\n      <td>87</td>\n      <td>15.0</td>\n      <td>Douro</td>\n      <td>NaN</td>\n      <td>NaN</td>\n      <td>Roger Voss</td>\n      <td>@vossroger</td>\n      <td>Quinta dos Avidagos 2011 Avidagos Red (Douro)</td>\n      <td>Portuguese Red</td>\n      <td>Quinta dos Avidagos</td>\n    </tr>\n    <tr>\n      <th>2</th>\n      <td>2</td>\n      <td>US</td>\n      <td>Tart and snappy, the flavors of lime flesh and...</td>\n      <td>NaN</td>\n      <td>87</td>\n      <td>14.0</td>\n      <td>Oregon</td>\n      <td>Willamette Valley</td>\n      <td>Willamette Valley</td>\n      <td>Paul Gregutt</td>\n      <td>@paulgwine</td>\n      <td>Rainstorm 2013 Pinot Gris (Willamette Valley)</td>\n      <td>Pinot Gris</td>\n      <td>Rainstorm</td>\n    </tr>\n    <tr>\n      <th>3</th>\n      <td>3</td>\n      <td>US</td>\n      <td>Pineapple rind, lemon pith and orange blossom ...</td>\n      <td>Reserve Late Harvest</td>\n      <td>87</td>\n      <td>13.0</td>\n      <td>Michigan</td>\n      <td>Lake Michigan Shore</td>\n      <td>NaN</td>\n      <td>Alexander Peartree</td>\n      <td>NaN</td>\n      <td>St. Julian 2013 Reserve Late Harvest Riesling ...</td>\n      <td>Riesling</td>\n      <td>St. Julian</td>\n    </tr>\n    <tr>\n      <th>4</th>\n      <td>4</td>\n      <td>US</td>\n      <td>Much like the regular bottling from 2012, this...</td>\n      <td>Vintner's Reserve Wild Child Block</td>\n      <td>87</td>\n      <td>65.0</td>\n      <td>Oregon</td>\n      <td>Willamette Valley</td>\n      <td>Willamette Valley</td>\n      <td>Paul Gregutt</td>\n      <td>@paulgwine</td>\n      <td>Sweet Cheeks 2012 Vintner's Reserve Wild Child...</td>\n      <td>Pinot Noir</td>\n      <td>Sweet Cheeks</td>\n    </tr>\n    <tr>\n      <th>...</th>\n      <td>...</td>\n      <td>...</td>\n      <td>...</td>\n      <td>...</td>\n      <td>...</td>\n      <td>...</td>\n      <td>...</td>\n      <td>...</td>\n      <td>...</td>\n      <td>...</td>\n      <td>...</td>\n      <td>...</td>\n      <td>...</td>\n      <td>...</td>\n    </tr>\n    <tr>\n      <th>129966</th>\n      <td>129966</td>\n      <td>Germany</td>\n      <td>Notes of honeysuckle and cantaloupe sweeten th...</td>\n      <td>Brauneberger Juffer-Sonnenuhr Spätlese</td>\n      <td>90</td>\n      <td>28.0</td>\n      <td>Mosel</td>\n      <td>NaN</td>\n      <td>NaN</td>\n      <td>Anna Lee C. Iijima</td>\n      <td>NaN</td>\n      <td>Dr. H. Thanisch (Erben Müller-Burggraef) 2013 ...</td>\n      <td>Riesling</td>\n      <td>Dr. H. Thanisch (Erben Müller-Burggraef)</td>\n    </tr>\n    <tr>\n      <th>129967</th>\n      <td>129967</td>\n      <td>US</td>\n      <td>Citation is given as much as a decade of bottl...</td>\n      <td>NaN</td>\n      <td>90</td>\n      <td>75.0</td>\n      <td>Oregon</td>\n      <td>Oregon</td>\n      <td>Oregon Other</td>\n      <td>Paul Gregutt</td>\n      <td>@paulgwine</td>\n      <td>Citation 2004 Pinot Noir (Oregon)</td>\n      <td>Pinot Noir</td>\n      <td>Citation</td>\n    </tr>\n    <tr>\n      <th>129968</th>\n      <td>129968</td>\n      <td>France</td>\n      <td>Well-drained gravel soil gives this wine its c...</td>\n      <td>Kritt</td>\n      <td>90</td>\n      <td>30.0</td>\n      <td>Alsace</td>\n      <td>Alsace</td>\n      <td>NaN</td>\n      <td>Roger Voss</td>\n      <td>@vossroger</td>\n      <td>Domaine Gresser 2013 Kritt Gewurztraminer (Als...</td>\n      <td>Gewürztraminer</td>\n      <td>Domaine Gresser</td>\n    </tr>\n    <tr>\n      <th>129969</th>\n      <td>129969</td>\n      <td>France</td>\n      <td>A dry style of Pinot Gris, this is crisp with ...</td>\n      <td>NaN</td>\n      <td>90</td>\n      <td>32.0</td>\n      <td>Alsace</td>\n      <td>Alsace</td>\n      <td>NaN</td>\n      <td>Roger Voss</td>\n      <td>@vossroger</td>\n      <td>Domaine Marcel Deiss 2012 Pinot Gris (Alsace)</td>\n      <td>Pinot Gris</td>\n      <td>Domaine Marcel Deiss</td>\n    </tr>\n    <tr>\n      <th>129970</th>\n      <td>129970</td>\n      <td>France</td>\n      <td>Big, rich and off-dry, this is powered by inte...</td>\n      <td>Lieu-dit Harth Cuvée Caroline</td>\n      <td>90</td>\n      <td>21.0</td>\n      <td>Alsace</td>\n      <td>Alsace</td>\n      <td>NaN</td>\n      <td>Roger Voss</td>\n      <td>@vossroger</td>\n      <td>Domaine Schoffit 2012 Lieu-dit Harth Cuvée Car...</td>\n      <td>Gewürztraminer</td>\n      <td>Domaine Schoffit</td>\n    </tr>\n  </tbody>\n</table>\n<p>129971 rows × 14 columns</p>\n</div>"
     },
     "execution_count": 126,
     "metadata": {},
     "output_type": "execute_result"
    }
   ],
   "source": [
    "df = pd.read_csv('./data/wine_reviews.csv')\n",
    "#df.drop(columns=['Unnamed: 0'], inplace=True)\n",
    "df"
   ],
   "metadata": {
    "collapsed": false,
    "ExecuteTime": {
     "end_time": "2023-09-09T19:59:37.013006200Z",
     "start_time": "2023-09-09T19:59:36.012047400Z"
    }
   },
   "id": "842c373db8393526"
  },
  {
   "cell_type": "code",
   "execution_count": 127,
   "outputs": [],
   "source": [
    "df['len_description'] = df['description'].apply(lambda x: len(x))"
   ],
   "metadata": {
    "collapsed": false,
    "ExecuteTime": {
     "end_time": "2023-09-09T19:59:37.132003900Z",
     "start_time": "2023-09-09T19:59:37.013006200Z"
    }
   },
   "id": "d0bda7c6f3c42651"
  },
  {
   "cell_type": "code",
   "execution_count": 128,
   "outputs": [
    {
     "data": {
      "text/plain": "<Axes: >"
     },
     "execution_count": 128,
     "metadata": {},
     "output_type": "execute_result"
    },
    {
     "data": {
      "text/plain": "<Figure size 640x480 with 1 Axes>",
      "image/png": "[encoded data removed]"
     },
     "metadata": {},
     "output_type": "display_data"
    }
   ],
   "source": [
    "df['len_description'].hist(bins=50)"
   ],
   "metadata": {
    "collapsed": false,
    "ExecuteTime": {
     "end_time": "2023-09-09T19:59:38.261968700Z",
     "start_time": "2023-09-09T19:59:37.090004500Z"
    }
   },
   "id": "c376a386ad807d8a"
  },
  {
   "cell_type": "code",
   "execution_count": 129,
   "outputs": [
    {
     "data": {
      "text/plain": "title\nGloria Ferrer NV Sonoma Brut Sparkling (Sonoma County)                         11\nKorbel NV Brut Sparkling (California)                                           9\nSegura Viudas NV Extra Dry Sparkling (Cava)                                     8\nRuinart NV Brut Rosé  (Champagne)                                               7\nSegura Viudas NV Aria Estate Extra Dry Sparkling (Cava)                         7\n                                                                               ..\nCave de Tain 2009 Gambert de Loche  (Hermitage)                                 1\nLes Vins de Vienne 2009 Les Barcillants  (Cornas)                               1\nJean-Luc Colombo 2009 La Louvée  (Cornas)                                       1\nJean-Luc Baldès 2009 Clos Triguedina The New Black Wine Malbec (Cahors)         1\nDomaine Schoffit 2012 Lieu-dit Harth Cuvée Caroline Gewurztraminer (Alsace)     1\nName: count, Length: 118840, dtype: int64"
     },
     "execution_count": 129,
     "metadata": {},
     "output_type": "execute_result"
    }
   ],
   "source": [
    "df['title'].value_counts()"
   ],
   "metadata": {
    "collapsed": false,
    "ExecuteTime": {
     "end_time": "2023-09-09T19:59:38.364981800Z",
     "start_time": "2023-09-09T19:59:38.260984300Z"
    }
   },
   "id": "52bb63a6230d757e"
  },
  {
   "cell_type": "code",
   "execution_count": 130,
   "outputs": [
    {
     "data": {
      "text/plain": "        Unnamed: 0 country                                        description  \\\n3209          3209      US  Creamy, lush and somewhat robust, this dry spa...   \n4399          4399      US  Made predominantly from Pinot Noir, this is an...   \n27773        27773      US  A wonderfully drinkable sparkling wine that ap...   \n63179        63179      US  Made from mostly Pinot Noir grapes, with an ad...   \n65584        65584      US  Made from mostly Pinot Noir grapes, with an ad...   \n81563        81563      US  This wine shows lots of finesse for the price....   \n90689        90689      US  Creamy, lush and somewhat robust, this dry spa...   \n94321        94321      US  A bit rough and scouring in texture, this tast...   \n100738      100738      US  A good, dry and elegant bubbly. Shows crisp fl...   \n109001      109001      US  From almost 92% Pinot Noir with the remainder ...   \n122208      122208      US  This bubbly is rich in cherry and raspberry fr...   \n\n        designation  points  price    province       region_1 region_2  \\\n3209    Sonoma Brut      90   22.0  California  Sonoma County   Sonoma   \n4399    Sonoma Brut      88   22.0  California  Sonoma County   Sonoma   \n27773   Sonoma Brut      90   20.0  California  Sonoma County   Sonoma   \n63179   Sonoma Brut      92   22.0  California  Sonoma County   Sonoma   \n65584   Sonoma Brut      92   22.0  California  Sonoma County   Sonoma   \n81563   Sonoma Brut      89   24.0  California  Sonoma County   Sonoma   \n90689   Sonoma Brut      90   22.0  California  Sonoma County   Sonoma   \n94321   Sonoma Brut      85   20.0  California  Sonoma County   Sonoma   \n100738  Sonoma Brut      89   20.0  California  Sonoma County   Sonoma   \n109001  Sonoma Brut      88   22.0  California  Sonoma County   Sonoma   \n122208  Sonoma Brut      86   20.0  California  Sonoma County   Sonoma   \n\n           taster_name taster_twitter_handle  \\\n3209    Virginie Boone               @vboone   \n4399    Virginie Boone               @vboone   \n27773              NaN                   NaN   \n63179   Virginie Boone               @vboone   \n65584   Virginie Boone               @vboone   \n81563              NaN                   NaN   \n90689   Virginie Boone               @vboone   \n94321              NaN                   NaN   \n100738             NaN                   NaN   \n109001  Virginie Boone               @vboone   \n122208             NaN                   NaN   \n\n                                                    title          variety  \\\n3209    Gloria Ferrer NV Sonoma Brut Sparkling (Sonoma...  Sparkling Blend   \n4399    Gloria Ferrer NV Sonoma Brut Sparkling (Sonoma...  Sparkling Blend   \n27773   Gloria Ferrer NV Sonoma Brut Sparkling (Sonoma...  Sparkling Blend   \n63179   Gloria Ferrer NV Sonoma Brut Sparkling (Sonoma...  Sparkling Blend   \n65584   Gloria Ferrer NV Sonoma Brut Sparkling (Sonoma...  Sparkling Blend   \n81563   Gloria Ferrer NV Sonoma Brut Sparkling (Sonoma...  Sparkling Blend   \n90689   Gloria Ferrer NV Sonoma Brut Sparkling (Sonoma...  Sparkling Blend   \n94321   Gloria Ferrer NV Sonoma Brut Sparkling (Sonoma...  Sparkling Blend   \n100738  Gloria Ferrer NV Sonoma Brut Sparkling (Sonoma...  Sparkling Blend   \n109001  Gloria Ferrer NV Sonoma Brut Sparkling (Sonoma...  Sparkling Blend   \n122208  Gloria Ferrer NV Sonoma Brut Sparkling (Sonoma...  Sparkling Blend   \n\n               winery  len_description  \n3209    Gloria Ferrer              156  \n4399    Gloria Ferrer              221  \n27773   Gloria Ferrer              254  \n63179   Gloria Ferrer              252  \n65584   Gloria Ferrer              252  \n81563   Gloria Ferrer              218  \n90689   Gloria Ferrer              156  \n94321   Gloria Ferrer              152  \n100738  Gloria Ferrer              178  \n109001  Gloria Ferrer              200  \n122208  Gloria Ferrer              215  ",
      "text/html": "<div>\n<style scoped>\n    .dataframe tbody tr th:only-of-type {\n        vertical-align: middle;\n    }\n\n    .dataframe tbody tr th {\n        vertical-align: top;\n    }\n\n    .dataframe thead th {\n        text-align: right;\n    }\n</style>\n<table border=\"1\" class=\"dataframe\">\n  <thead>\n    <tr style=\"text-align: right;\">\n      <th></th>\n      <th>Unnamed: 0</th>\n      <th>country</th>\n      <th>description</th>\n      <th>designation</th>\n      <th>points</th>\n      <th>price</th>\n      <th>province</th>\n      <th>region_1</th>\n      <th>region_2</th>\n      <th>taster_name</th>\n      <th>taster_twitter_handle</th>\n      <th>title</th>\n      <th>variety</th>\n      <th>winery</th>\n      <th>len_description</th>\n    </tr>\n  </thead>\n  <tbody>\n    <tr>\n      <th>3209</th>\n      <td>3209</td>\n      <td>US</td>\n      <td>Creamy, lush and somewhat robust, this dry spa...</td>\n      <td>Sonoma Brut</td>\n      <td>90</td>\n      <td>22.0</td>\n      <td>California</td>\n      <td>Sonoma County</td>\n      <td>Sonoma</td>\n      <td>Virginie Boone</td>\n      <td>@vboone</td>\n      <td>Gloria Ferrer NV Sonoma Brut Sparkling (Sonoma...</td>\n      <td>Sparkling Blend</td>\n      <td>Gloria Ferrer</td>\n      <td>156</td>\n    </tr>\n    <tr>\n      <th>4399</th>\n      <td>4399</td>\n      <td>US</td>\n      <td>Made predominantly from Pinot Noir, this is an...</td>\n      <td>Sonoma Brut</td>\n      <td>88</td>\n      <td>22.0</td>\n      <td>California</td>\n      <td>Sonoma County</td>\n      <td>Sonoma</td>\n      <td>Virginie Boone</td>\n      <td>@vboone</td>\n      <td>Gloria Ferrer NV Sonoma Brut Sparkling (Sonoma...</td>\n      <td>Sparkling Blend</td>\n      <td>Gloria Ferrer</td>\n      <td>221</td>\n    </tr>\n    <tr>\n      <th>27773</th>\n      <td>27773</td>\n      <td>US</td>\n      <td>A wonderfully drinkable sparkling wine that ap...</td>\n      <td>Sonoma Brut</td>\n      <td>90</td>\n      <td>20.0</td>\n      <td>California</td>\n      <td>Sonoma County</td>\n      <td>Sonoma</td>\n      <td>NaN</td>\n      <td>NaN</td>\n      <td>Gloria Ferrer NV Sonoma Brut Sparkling (Sonoma...</td>\n      <td>Sparkling Blend</td>\n      <td>Gloria Ferrer</td>\n      <td>254</td>\n    </tr>\n    <tr>\n      <th>63179</th>\n      <td>63179</td>\n      <td>US</td>\n      <td>Made from mostly Pinot Noir grapes, with an ad...</td>\n      <td>Sonoma Brut</td>\n      <td>92</td>\n      <td>22.0</td>\n      <td>California</td>\n      <td>Sonoma County</td>\n      <td>Sonoma</td>\n      <td>Virginie Boone</td>\n      <td>@vboone</td>\n      <td>Gloria Ferrer NV Sonoma Brut Sparkling (Sonoma...</td>\n      <td>Sparkling Blend</td>\n      <td>Gloria Ferrer</td>\n      <td>252</td>\n    </tr>\n    <tr>\n      <th>65584</th>\n      <td>65584</td>\n      <td>US</td>\n      <td>Made from mostly Pinot Noir grapes, with an ad...</td>\n      <td>Sonoma Brut</td>\n      <td>92</td>\n      <td>22.0</td>\n      <td>California</td>\n      <td>Sonoma County</td>\n      <td>Sonoma</td>\n      <td>Virginie Boone</td>\n      <td>@vboone</td>\n      <td>Gloria Ferrer NV Sonoma Brut Sparkling (Sonoma...</td>\n      <td>Sparkling Blend</td>\n      <td>Gloria Ferrer</td>\n      <td>252</td>\n    </tr>\n    <tr>\n      <th>81563</th>\n      <td>81563</td>\n      <td>US</td>\n      <td>This wine shows lots of finesse for the price....</td>\n      <td>Sonoma Brut</td>\n      <td>89</td>\n      <td>24.0</td>\n      <td>California</td>\n      <td>Sonoma County</td>\n      <td>Sonoma</td>\n      <td>NaN</td>\n      <td>NaN</td>\n      <td>Gloria Ferrer NV Sonoma Brut Sparkling (Sonoma...</td>\n      <td>Sparkling Blend</td>\n      <td>Gloria Ferrer</td>\n      <td>218</td>\n    </tr>\n    <tr>\n      <th>90689</th>\n      <td>90689</td>\n      <td>US</td>\n      <td>Creamy, lush and somewhat robust, this dry spa...</td>\n      <td>Sonoma Brut</td>\n      <td>90</td>\n      <td>22.0</td>\n      <td>California</td>\n      <td>Sonoma County</td>\n      <td>Sonoma</td>\n      <td>Virginie Boone</td>\n      <td>@vboone</td>\n      <td>Gloria Ferrer NV Sonoma Brut Sparkling (Sonoma...</td>\n      <td>Sparkling Blend</td>\n      <td>Gloria Ferrer</td>\n      <td>156</td>\n    </tr>\n    <tr>\n      <th>94321</th>\n      <td>94321</td>\n      <td>US</td>\n      <td>A bit rough and scouring in texture, this tast...</td>\n      <td>Sonoma Brut</td>\n      <td>85</td>\n      <td>20.0</td>\n      <td>California</td>\n      <td>Sonoma County</td>\n      <td>Sonoma</td>\n      <td>NaN</td>\n      <td>NaN</td>\n      <td>Gloria Ferrer NV Sonoma Brut Sparkling (Sonoma...</td>\n      <td>Sparkling Blend</td>\n      <td>Gloria Ferrer</td>\n      <td>152</td>\n    </tr>\n    <tr>\n      <th>100738</th>\n      <td>100738</td>\n      <td>US</td>\n      <td>A good, dry and elegant bubbly. Shows crisp fl...</td>\n      <td>Sonoma Brut</td>\n      <td>89</td>\n      <td>20.0</td>\n      <td>California</td>\n      <td>Sonoma County</td>\n      <td>Sonoma</td>\n      <td>NaN</td>\n      <td>NaN</td>\n      <td>Gloria Ferrer NV Sonoma Brut Sparkling (Sonoma...</td>\n      <td>Sparkling Blend</td>\n      <td>Gloria Ferrer</td>\n      <td>178</td>\n    </tr>\n    <tr>\n      <th>109001</th>\n      <td>109001</td>\n      <td>US</td>\n      <td>From almost 92% Pinot Noir with the remainder ...</td>\n      <td>Sonoma Brut</td>\n      <td>88</td>\n      <td>22.0</td>\n      <td>California</td>\n      <td>Sonoma County</td>\n      <td>Sonoma</td>\n      <td>Virginie Boone</td>\n      <td>@vboone</td>\n      <td>Gloria Ferrer NV Sonoma Brut Sparkling (Sonoma...</td>\n      <td>Sparkling Blend</td>\n      <td>Gloria Ferrer</td>\n      <td>200</td>\n    </tr>\n    <tr>\n      <th>122208</th>\n      <td>122208</td>\n      <td>US</td>\n      <td>This bubbly is rich in cherry and raspberry fr...</td>\n      <td>Sonoma Brut</td>\n      <td>86</td>\n      <td>20.0</td>\n      <td>California</td>\n      <td>Sonoma County</td>\n      <td>Sonoma</td>\n      <td>NaN</td>\n      <td>NaN</td>\n      <td>Gloria Ferrer NV Sonoma Brut Sparkling (Sonoma...</td>\n      <td>Sparkling Blend</td>\n      <td>Gloria Ferrer</td>\n      <td>215</td>\n    </tr>\n  </tbody>\n</table>\n</div>"
     },
     "execution_count": 130,
     "metadata": {},
     "output_type": "execute_result"
    }
   ],
   "source": [
    "df[df['title'] == 'Gloria Ferrer NV Sonoma Brut Sparkling (Sonoma County)']"
   ],
   "metadata": {
    "collapsed": false,
    "ExecuteTime": {
     "end_time": "2023-09-09T19:59:38.397965400Z",
     "start_time": "2023-09-09T19:59:38.362967Z"
    }
   },
   "id": "d90b7829b694df8c"
  },
  {
   "cell_type": "code",
   "execution_count": 131,
   "outputs": [
    {
     "name": "stdout",
     "output_type": "stream",
     "text": [
      "Made from mostly Pinot Noir grapes, with an addition of 8.8% Chardonnay, this Méthode Champenoise wine is sultry in raspberry cream and crème brûlée, with enough acidity to keep it fresh in the glass. The finish offers a taste of toast with ginger jam.\n",
      "Made from mostly Pinot Noir grapes, with an addition of 8.8% Chardonnay, this Méthode Champenoise wine is sultry in raspberry cream and crème brûlée, with enough acidity to keep it fresh in the glass. The finish offers a taste of toast with ginger jam.\n"
     ]
    }
   ],
   "source": [
    "print(df['description'][63179])\n",
    "print(df['description'][65584])"
   ],
   "metadata": {
    "collapsed": false,
    "ExecuteTime": {
     "end_time": "2023-09-09T19:59:38.398965200Z",
     "start_time": "2023-09-09T19:59:38.388965100Z"
    }
   },
   "id": "410c6c3a63f38e89"
  },
  {
   "cell_type": "code",
   "execution_count": 132,
   "outputs": [],
   "source": [
    "df['description_clean'] = df['description'].apply(lambda x: x.lower())\n",
    "df['description_clean'] = df['description_clean'].apply(lambda x: remove_stopwords(x))\n",
    "df['description_clean'] = df['description_clean'].apply(lambda x: strip_punctuation(x))\n",
    "df['description_clean'] = df['description_clean'].apply(lambda x: word_tokenize(x))\n",
    "df['description_clean'] = df['description_clean'].apply(lambda x: [wnl.lemmatize(i) for i in x])\n",
    "df['description_clean'] = df['description_clean'].apply(lambda x: remove_short_tokens(x))"
   ],
   "metadata": {
    "collapsed": false,
    "ExecuteTime": {
     "end_time": "2023-09-09T20:00:15.813828100Z",
     "start_time": "2023-09-09T19:59:38.397965400Z"
    }
   },
   "id": "6a67c92c18213918"
  },
  {
   "cell_type": "code",
   "execution_count": 133,
   "outputs": [],
   "source": [
    "splitted_texts = df['description_clean'].tolist()"
   ],
   "metadata": {
    "collapsed": false,
    "ExecuteTime": {
     "end_time": "2023-09-09T20:00:15.823828900Z",
     "start_time": "2023-09-09T20:00:15.815828800Z"
    }
   },
   "id": "fce5598abcaca673"
  },
  {
   "cell_type": "code",
   "execution_count": 134,
   "outputs": [],
   "source": [
    "idx = [str(i) for i in range(len(splitted_texts))]\n",
    "\n",
    "tagged_documents = []\n",
    "for i in range(len(splitted_texts)):\n",
    "    tagged_documents.append(TaggedDocument(splitted_texts[i], [idx[i]]))"
   ],
   "metadata": {
    "collapsed": false,
    "ExecuteTime": {
     "end_time": "2023-09-09T20:00:16.763806Z",
     "start_time": "2023-09-09T20:00:15.825843800Z"
    }
   },
   "id": "c0fe8973a9a44d2e"
  },
  {
   "cell_type": "code",
   "execution_count": 135,
   "outputs": [
    {
     "data": {
      "text/plain": "TaggedDocument(words=['soft', 'supple', 'plum', 'envelope', 'oaky', 'structure', 'cabernet', 'supported', 'merlot', 'coffee', 'chocolate', 'complete', 'picture', 'finishing', 'strong', 'end', 'resulting', 'value', 'priced', 'wine', 'attractive', 'flavor', 'immediate', 'accessibility'], tags=['10'])"
     },
     "execution_count": 135,
     "metadata": {},
     "output_type": "execute_result"
    }
   ],
   "source": [
    "tagged_documents[10]"
   ],
   "metadata": {
    "collapsed": false,
    "ExecuteTime": {
     "end_time": "2023-09-09T20:00:16.772802400Z",
     "start_time": "2023-09-09T20:00:16.766800400Z"
    }
   },
   "id": "14d2fc0eed85d7bf"
  },
  {
   "cell_type": "code",
   "execution_count": 136,
   "outputs": [],
   "source": [
    "def build_model(max_epochs, vec_size, alpha, tagged_documents):\n",
    "    model = Doc2Vec(vector_size=vec_size,\n",
    "                    alpha=alpha,\n",
    "                    min_alpha=0.00025,\n",
    "                    min_count=1,\n",
    "                    dm=1)\n",
    "\n",
    "    model.build_vocab(tagged_documents)\n",
    "\n",
    "    for epoch in range(max_epochs):\n",
    "        print(f\"Iteration {epoch}\")\n",
    "        model.train(tagged_documents,\n",
    "                    total_examples=model.corpus_count,\n",
    "                    epochs=model.epochs)\n",
    "\n",
    "        model.alpha -= 0.0002\n",
    "        model.min_alpha = model.alpha\n",
    "        \n",
    "    \n",
    "    return model"
   ],
   "metadata": {
    "collapsed": false,
    "ExecuteTime": {
     "end_time": "2023-09-09T20:00:16.819660300Z",
     "start_time": "2023-09-09T20:00:16.772802400Z"
    }
   },
   "id": "ef499a37b982f49f"
  },
  {
   "cell_type": "code",
   "execution_count": 137,
   "outputs": [
    {
     "name": "stdout",
     "output_type": "stream",
     "text": [
      "Iteration 0\n"
     ]
    }
   ],
   "source": [
    "model = build_model(max_epochs=1, vec_size=50, alpha=0.025, tagged_documents=tagged_documents)"
   ],
   "metadata": {
    "collapsed": false,
    "ExecuteTime": {
     "end_time": "2023-09-09T20:01:47.942477100Z",
     "start_time": "2023-09-09T20:00:16.792662100Z"
    }
   },
   "id": "69ef7695bf371631"
  },
  {
   "cell_type": "code",
   "execution_count": 138,
   "outputs": [],
   "source": [
    "model.save('./models/' + (datetime.utcnow().strftime('%Y_%m_%d_%H_%M_%S')) + '_doc2vec.model')"
   ],
   "metadata": {
    "collapsed": false,
    "ExecuteTime": {
     "end_time": "2023-09-09T20:01:48.077346700Z",
     "start_time": "2023-09-09T20:01:47.944477400Z"
    }
   },
   "id": "c4e990266f197c67"
  },
  {
   "cell_type": "code",
   "execution_count": 139,
   "outputs": [],
   "source": [
    "new_sentence = \"Attractively ripe, this has fruity red-berry flavors along with acidity and soft tannins. This is ready to drink now.\"\n",
    "original = new_sentence"
   ],
   "metadata": {
    "collapsed": false,
    "ExecuteTime": {
     "end_time": "2023-09-09T20:01:48.078346900Z",
     "start_time": "2023-09-09T20:01:48.069347200Z"
    }
   },
   "id": "17710b11eeeb6e80"
  },
  {
   "cell_type": "code",
   "execution_count": 140,
   "outputs": [
    {
     "data": {
      "text/plain": "array([ 0.12703598,  0.03682058, -0.0420127 ,  0.06554008,  0.03305516,\n        0.02350347, -0.0574488 , -0.04128532,  0.15075804, -0.01298536,\n       -0.06864986, -0.00301179,  0.06699679,  0.03756286,  0.06444427,\n       -0.10382417,  0.01196183,  0.10688499, -0.06162093, -0.07593559,\n        0.0809333 , -0.05830252, -0.3090337 ,  0.17371379, -0.09973281,\n       -0.22324057,  0.10563476, -0.20991424, -0.12934811, -0.05309479,\n        0.04167634, -0.05887583, -0.08959939,  0.04905371,  0.0207288 ,\n       -0.01742984, -0.02206411,  0.13932462,  0.00277292, -0.05017012,\n        0.0521977 ,  0.04537734, -0.04038573, -0.09492362, -0.15237214,\n       -0.1943591 ,  0.03330302, -0.09059697,  0.1327138 ,  0.08207048],\n      dtype=float32)"
     },
     "execution_count": 140,
     "metadata": {},
     "output_type": "execute_result"
    }
   ],
   "source": [
    "new_sentence = new_sentence.lower()\n",
    "new_sentence = remove_stopwords(new_sentence)\n",
    "new_sentence = strip_punctuation(new_sentence)\n",
    "new_sentence = word_tokenize(new_sentence)\n",
    "new_sentence = [wnl.lemmatize(i) for i in new_sentence]\n",
    "new_sentence = remove_short_tokens(new_sentence)\n",
    "new_sentence_vectorized = model.infer_vector(new_sentence)\n",
    "new_sentence_vectorized"
   ],
   "metadata": {
    "collapsed": false,
    "ExecuteTime": {
     "end_time": "2023-09-09T20:01:48.100346600Z",
     "start_time": "2023-09-09T20:01:48.075347200Z"
    }
   },
   "id": "2a2c12c30c14aebc"
  },
  {
   "cell_type": "code",
   "execution_count": 141,
   "outputs": [],
   "source": [
    "# Calculate cosine similarity. \n",
    "similar_sentences = model.dv.most_similar(positive=[new_sentence_vectorized])"
   ],
   "metadata": {
    "collapsed": false,
    "ExecuteTime": {
     "end_time": "2023-09-09T20:01:48.136346Z",
     "start_time": "2023-09-09T20:01:48.098350100Z"
    }
   },
   "id": "52c28ad6b2de757c"
  },
  {
   "cell_type": "code",
   "execution_count": 142,
   "outputs": [
    {
     "data": {
      "text/plain": "[('129014', 0.8135147094726562),\n ('128120', 0.7890603542327881),\n ('103723', 0.7885780930519104),\n ('86576', 0.7884041666984558),\n ('2749', 0.7810693383216858),\n ('88854', 0.7761382460594177),\n ('46361', 0.7745341062545776),\n ('40997', 0.7684140801429749),\n ('123889', 0.7672126293182373),\n ('106603', 0.7670496702194214)]"
     },
     "execution_count": 142,
     "metadata": {},
     "output_type": "execute_result"
    }
   ],
   "source": [
    "similar_sentences"
   ],
   "metadata": {
    "collapsed": false,
    "ExecuteTime": {
     "end_time": "2023-09-09T20:01:48.136346Z",
     "start_time": "2023-09-09T20:01:48.128346400Z"
    }
   },
   "id": "b9a8f39be5d256af"
  },
  {
   "cell_type": "code",
   "execution_count": 143,
   "outputs": [
    {
     "name": "stdout",
     "output_type": "stream",
     "text": [
      "Original:  Attractively ripe, this has fruity red-berry flavors along with acidity and soft tannins. This is ready to drink now.\n",
      "Simular: This wine is all bright cherry fruit with juicy acidity and a jammy character. It's delicious now, with its light tannins and bright raspberry aftertaste. Drink now.\n"
     ]
    }
   ],
   "source": [
    "print('Original: ', original)\n",
    "print('Simular:', df['description'][24997])"
   ],
   "metadata": {
    "collapsed": false,
    "ExecuteTime": {
     "end_time": "2023-09-09T20:01:48.186363900Z",
     "start_time": "2023-09-09T20:01:48.135346Z"
    }
   },
   "id": "6117824627b6e783"
  },
  {
   "cell_type": "code",
   "execution_count": 144,
   "outputs": [
    {
     "data": {
      "text/plain": "[('raspberry', 0.8119252324104309),\n ('blackberry', 0.8037290573120117),\n ('licorice', 0.7062361240386963),\n ('cherry', 0.70391845703125),\n ('strawberry', 0.7023027539253235),\n ('blueberry', 0.6936397552490234),\n ('plum', 0.6809413433074951),\n ('black', 0.6563075184822083),\n ('chewy', 0.6555365920066833),\n ('currant', 0.6421284079551697)]"
     },
     "execution_count": 144,
     "metadata": {},
     "output_type": "execute_result"
    }
   ],
   "source": [
    "model.wv.similar_by_word('berry')"
   ],
   "metadata": {
    "collapsed": false,
    "ExecuteTime": {
     "end_time": "2023-09-09T20:01:48.187364200Z",
     "start_time": "2023-09-09T20:01:48.161365400Z"
    }
   },
   "id": "e2e7570187e0e7ef"
  },
  {
   "cell_type": "code",
   "execution_count": 145,
   "outputs": [
    {
     "data": {
      "text/plain": "[('fruitiness', 0.7544829845428467),\n ('attractive', 0.7323581576347351),\n ('perfumed', 0.7287551760673523),\n ('rounded', 0.7208541035652161),\n ('juicy', 0.7197499871253967),\n ('ripe', 0.700635552406311),\n ('flavored', 0.6942505240440369),\n ('fruit', 0.6838297843933105),\n ('ready', 0.6577211618423462),\n ('generous', 0.6494383811950684)]"
     },
     "execution_count": 145,
     "metadata": {},
     "output_type": "execute_result"
    }
   ],
   "source": [
    "model.wv.similar_by_word('fruity')"
   ],
   "metadata": {
    "collapsed": false,
    "ExecuteTime": {
     "end_time": "2023-09-09T20:01:48.198364Z",
     "start_time": "2023-09-09T20:01:48.182364900Z"
    }
   },
   "id": "b692a09a985fc93c"
  },
  {
   "cell_type": "code",
   "execution_count": 146,
   "outputs": [
    {
     "data": {
      "text/plain": "[('acid', 0.8148564100265503),\n ('flavor', 0.6879458427429199),\n ('richness', 0.6694888472557068),\n ('fruitiness', 0.6688607931137085),\n ('tangy', 0.665187418460846),\n ('acidic', 0.657796323299408),\n ('freshness', 0.6577640771865845),\n ('crispness', 0.6449536085128784),\n ('ripe', 0.6442955732345581),\n ('character', 0.640905499458313)]"
     },
     "execution_count": 146,
     "metadata": {},
     "output_type": "execute_result"
    }
   ],
   "source": [
    "model.wv.similar_by_word('acidity')"
   ],
   "metadata": {
    "collapsed": false,
    "ExecuteTime": {
     "end_time": "2023-09-09T20:01:48.241364100Z",
     "start_time": "2023-09-09T20:01:48.198364Z"
    }
   },
   "id": "28f8cdb595b95a65"
  },
  {
   "cell_type": "code",
   "execution_count": 147,
   "outputs": [
    {
     "data": {
      "text/plain": "[('rich', 0.808125376701355),\n ('ripe', 0.7574532628059387),\n ('complex', 0.7188388705253601),\n ('great', 0.7156684398651123),\n ('ready', 0.7142340540885925),\n ('intense', 0.7033302783966064),\n ('attractive', 0.6955254077911377),\n ('generous', 0.692996621131897),\n ('opulent', 0.6783854365348816),\n ('crisp', 0.6725216507911682)]"
     },
     "execution_count": 147,
     "metadata": {},
     "output_type": "execute_result"
    }
   ],
   "source": [
    "model.wv.similar_by_word('delicious')"
   ],
   "metadata": {
    "collapsed": false,
    "ExecuteTime": {
     "end_time": "2023-09-09T20:01:48.250362200Z",
     "start_time": "2023-09-09T20:01:48.208363900Z"
    }
   },
   "id": "163a2df33c97fbae"
  },
  {
   "cell_type": "code",
   "execution_count": 147,
   "outputs": [],
   "source": [],
   "metadata": {
    "collapsed": false,
    "ExecuteTime": {
     "end_time": "2023-09-09T20:01:48.251362200Z",
     "start_time": "2023-09-09T20:01:48.220363800Z"
    }
   },
   "id": "79472f5b240d086b"
  }
 ],
 "metadata": {
  "kernelspec": {
   "display_name": "Python 3",
   "language": "python",
   "name": "python3"
  },
  "language_info": {
   "codemirror_mode": {
    "name": "ipython",
    "version": 2
   },
   "file_extension": ".py",
   "mimetype": "text/x-python",
   "name": "python",
   "nbconvert_exporter": "python",
   "pygments_lexer": "ipython2",
   "version": "2.7.6"
  }
 },
 "nbformat": 4,
 "nbformat_minor": 5
}
