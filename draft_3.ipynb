{
 "cells": [
  {
   "cell_type": "code",
   "execution_count": 78,
   "outputs": [],
   "source": [
    "from gensim.parsing.preprocessing import preprocess_documents, remove_stopwords, remove_short_tokens\n",
    "from gensim.parsing.preprocessing import strip_punctuation\n",
    "from gensim.models.doc2vec import Doc2Vec, TaggedDocument\n",
    "\n",
    "from nltk.tokenize import word_tokenize\n",
    "from nltk.stem import WordNetLemmatizer\n",
    "wnl = WordNetLemmatizer()\n",
    "from datetime import datetime\n",
    "import pandas as pd"
   ],
   "metadata": {
    "collapsed": false,
    "ExecuteTime": {
     "end_time": "2023-09-09T18:03:47.013651900Z",
     "start_time": "2023-09-09T18:03:46.995642200Z"
    }
   },
   "id": "fa7d05600a948148"
  },
  {
   "cell_type": "code",
   "execution_count": 105,
   "outputs": [
    {
     "data": {
      "text/plain": "         index   country                                        description  \\\n0            0     Italy  Aromas include tropical fruit, broom, brimston...   \n1            1  Portugal  This is ripe and fruity, a wine that is smooth...   \n2            2        US  Tart and snappy, the flavors of lime flesh and...   \n3            3        US  Pineapple rind, lemon pith and orange blossom ...   \n4            4        US  Much like the regular bottling from 2012, this...   \n...        ...       ...                                                ...   \n119950  129966   Germany  Notes of honeysuckle and cantaloupe sweeten th...   \n119951  129967        US  Citation is given as much as a decade of bottl...   \n119952  129968    France  Well-drained gravel soil gives this wine its c...   \n119953  129969    France  A dry style of Pinot Gris, this is crisp with ...   \n119954  129970    France  Big, rich and off-dry, this is powered by inte...   \n\n                                   designation  points  price  \\\n0                                 Vulkà Bianco      87    NaN   \n1                                     Avidagos      87   15.0   \n2                                          NaN      87   14.0   \n3                         Reserve Late Harvest      87   13.0   \n4           Vintner's Reserve Wild Child Block      87   65.0   \n...                                        ...     ...    ...   \n119950  Brauneberger Juffer-Sonnenuhr Spätlese      90   28.0   \n119951                                     NaN      90   75.0   \n119952                                   Kritt      90   30.0   \n119953                                     NaN      90   32.0   \n119954           Lieu-dit Harth Cuvée Caroline      90   21.0   \n\n                 province             region_1           region_2  \\\n0       Sicily & Sardinia                 Etna                NaN   \n1                   Douro                  NaN                NaN   \n2                  Oregon    Willamette Valley  Willamette Valley   \n3                Michigan  Lake Michigan Shore                NaN   \n4                  Oregon    Willamette Valley  Willamette Valley   \n...                   ...                  ...                ...   \n119950              Mosel                  NaN                NaN   \n119951             Oregon               Oregon       Oregon Other   \n119952             Alsace               Alsace                NaN   \n119953             Alsace               Alsace                NaN   \n119954             Alsace               Alsace                NaN   \n\n               taster_name taster_twitter_handle  \\\n0            Kerin O’Keefe          @kerinokeefe   \n1               Roger Voss            @vossroger   \n2             Paul Gregutt           @paulgwine    \n3       Alexander Peartree                   NaN   \n4             Paul Gregutt           @paulgwine    \n...                    ...                   ...   \n119950  Anna Lee C. Iijima                   NaN   \n119951        Paul Gregutt           @paulgwine    \n119952          Roger Voss            @vossroger   \n119953          Roger Voss            @vossroger   \n119954          Roger Voss            @vossroger   \n\n                                                    title         variety  \\\n0                       Nicosia 2013 Vulkà Bianco  (Etna)     White Blend   \n1           Quinta dos Avidagos 2011 Avidagos Red (Douro)  Portuguese Red   \n2           Rainstorm 2013 Pinot Gris (Willamette Valley)      Pinot Gris   \n3       St. Julian 2013 Reserve Late Harvest Riesling ...        Riesling   \n4       Sweet Cheeks 2012 Vintner's Reserve Wild Child...      Pinot Noir   \n...                                                   ...             ...   \n119950  Dr. H. Thanisch (Erben Müller-Burggraef) 2013 ...        Riesling   \n119951                  Citation 2004 Pinot Noir (Oregon)      Pinot Noir   \n119952  Domaine Gresser 2013 Kritt Gewurztraminer (Als...  Gewürztraminer   \n119953      Domaine Marcel Deiss 2012 Pinot Gris (Alsace)      Pinot Gris   \n119954  Domaine Schoffit 2012 Lieu-dit Harth Cuvée Car...  Gewürztraminer   \n\n                                          winery  \n0                                        Nicosia  \n1                            Quinta dos Avidagos  \n2                                      Rainstorm  \n3                                     St. Julian  \n4                                   Sweet Cheeks  \n...                                          ...  \n119950  Dr. H. Thanisch (Erben Müller-Burggraef)  \n119951                                  Citation  \n119952                           Domaine Gresser  \n119953                      Domaine Marcel Deiss  \n119954                          Domaine Schoffit  \n\n[119955 rows x 14 columns]",
      "text/html": "<div>\n<style scoped>\n    .dataframe tbody tr th:only-of-type {\n        vertical-align: middle;\n    }\n\n    .dataframe tbody tr th {\n        vertical-align: top;\n    }\n\n    .dataframe thead th {\n        text-align: right;\n    }\n</style>\n<table border=\"1\" class=\"dataframe\">\n  <thead>\n    <tr style=\"text-align: right;\">\n      <th></th>\n      <th>index</th>\n      <th>country</th>\n      <th>description</th>\n      <th>designation</th>\n      <th>points</th>\n      <th>price</th>\n      <th>province</th>\n      <th>region_1</th>\n      <th>region_2</th>\n      <th>taster_name</th>\n      <th>taster_twitter_handle</th>\n      <th>title</th>\n      <th>variety</th>\n      <th>winery</th>\n    </tr>\n  </thead>\n  <tbody>\n    <tr>\n      <th>0</th>\n      <td>0</td>\n      <td>Italy</td>\n      <td>Aromas include tropical fruit, broom, brimston...</td>\n      <td>Vulkà Bianco</td>\n      <td>87</td>\n      <td>NaN</td>\n      <td>Sicily &amp; Sardinia</td>\n      <td>Etna</td>\n      <td>NaN</td>\n      <td>Kerin O’Keefe</td>\n      <td>@kerinokeefe</td>\n      <td>Nicosia 2013 Vulkà Bianco  (Etna)</td>\n      <td>White Blend</td>\n      <td>Nicosia</td>\n    </tr>\n    <tr>\n      <th>1</th>\n      <td>1</td>\n      <td>Portugal</td>\n      <td>This is ripe and fruity, a wine that is smooth...</td>\n      <td>Avidagos</td>\n      <td>87</td>\n      <td>15.0</td>\n      <td>Douro</td>\n      <td>NaN</td>\n      <td>NaN</td>\n      <td>Roger Voss</td>\n      <td>@vossroger</td>\n      <td>Quinta dos Avidagos 2011 Avidagos Red (Douro)</td>\n      <td>Portuguese Red</td>\n      <td>Quinta dos Avidagos</td>\n    </tr>\n    <tr>\n      <th>2</th>\n      <td>2</td>\n      <td>US</td>\n      <td>Tart and snappy, the flavors of lime flesh and...</td>\n      <td>NaN</td>\n      <td>87</td>\n      <td>14.0</td>\n      <td>Oregon</td>\n      <td>Willamette Valley</td>\n      <td>Willamette Valley</td>\n      <td>Paul Gregutt</td>\n      <td>@paulgwine</td>\n      <td>Rainstorm 2013 Pinot Gris (Willamette Valley)</td>\n      <td>Pinot Gris</td>\n      <td>Rainstorm</td>\n    </tr>\n    <tr>\n      <th>3</th>\n      <td>3</td>\n      <td>US</td>\n      <td>Pineapple rind, lemon pith and orange blossom ...</td>\n      <td>Reserve Late Harvest</td>\n      <td>87</td>\n      <td>13.0</td>\n      <td>Michigan</td>\n      <td>Lake Michigan Shore</td>\n      <td>NaN</td>\n      <td>Alexander Peartree</td>\n      <td>NaN</td>\n      <td>St. Julian 2013 Reserve Late Harvest Riesling ...</td>\n      <td>Riesling</td>\n      <td>St. Julian</td>\n    </tr>\n    <tr>\n      <th>4</th>\n      <td>4</td>\n      <td>US</td>\n      <td>Much like the regular bottling from 2012, this...</td>\n      <td>Vintner's Reserve Wild Child Block</td>\n      <td>87</td>\n      <td>65.0</td>\n      <td>Oregon</td>\n      <td>Willamette Valley</td>\n      <td>Willamette Valley</td>\n      <td>Paul Gregutt</td>\n      <td>@paulgwine</td>\n      <td>Sweet Cheeks 2012 Vintner's Reserve Wild Child...</td>\n      <td>Pinot Noir</td>\n      <td>Sweet Cheeks</td>\n    </tr>\n    <tr>\n      <th>...</th>\n      <td>...</td>\n      <td>...</td>\n      <td>...</td>\n      <td>...</td>\n      <td>...</td>\n      <td>...</td>\n      <td>...</td>\n      <td>...</td>\n      <td>...</td>\n      <td>...</td>\n      <td>...</td>\n      <td>...</td>\n      <td>...</td>\n      <td>...</td>\n    </tr>\n    <tr>\n      <th>119950</th>\n      <td>129966</td>\n      <td>Germany</td>\n      <td>Notes of honeysuckle and cantaloupe sweeten th...</td>\n      <td>Brauneberger Juffer-Sonnenuhr Spätlese</td>\n      <td>90</td>\n      <td>28.0</td>\n      <td>Mosel</td>\n      <td>NaN</td>\n      <td>NaN</td>\n      <td>Anna Lee C. Iijima</td>\n      <td>NaN</td>\n      <td>Dr. H. Thanisch (Erben Müller-Burggraef) 2013 ...</td>\n      <td>Riesling</td>\n      <td>Dr. H. Thanisch (Erben Müller-Burggraef)</td>\n    </tr>\n    <tr>\n      <th>119951</th>\n      <td>129967</td>\n      <td>US</td>\n      <td>Citation is given as much as a decade of bottl...</td>\n      <td>NaN</td>\n      <td>90</td>\n      <td>75.0</td>\n      <td>Oregon</td>\n      <td>Oregon</td>\n      <td>Oregon Other</td>\n      <td>Paul Gregutt</td>\n      <td>@paulgwine</td>\n      <td>Citation 2004 Pinot Noir (Oregon)</td>\n      <td>Pinot Noir</td>\n      <td>Citation</td>\n    </tr>\n    <tr>\n      <th>119952</th>\n      <td>129968</td>\n      <td>France</td>\n      <td>Well-drained gravel soil gives this wine its c...</td>\n      <td>Kritt</td>\n      <td>90</td>\n      <td>30.0</td>\n      <td>Alsace</td>\n      <td>Alsace</td>\n      <td>NaN</td>\n      <td>Roger Voss</td>\n      <td>@vossroger</td>\n      <td>Domaine Gresser 2013 Kritt Gewurztraminer (Als...</td>\n      <td>Gewürztraminer</td>\n      <td>Domaine Gresser</td>\n    </tr>\n    <tr>\n      <th>119953</th>\n      <td>129969</td>\n      <td>France</td>\n      <td>A dry style of Pinot Gris, this is crisp with ...</td>\n      <td>NaN</td>\n      <td>90</td>\n      <td>32.0</td>\n      <td>Alsace</td>\n      <td>Alsace</td>\n      <td>NaN</td>\n      <td>Roger Voss</td>\n      <td>@vossroger</td>\n      <td>Domaine Marcel Deiss 2012 Pinot Gris (Alsace)</td>\n      <td>Pinot Gris</td>\n      <td>Domaine Marcel Deiss</td>\n    </tr>\n    <tr>\n      <th>119954</th>\n      <td>129970</td>\n      <td>France</td>\n      <td>Big, rich and off-dry, this is powered by inte...</td>\n      <td>Lieu-dit Harth Cuvée Caroline</td>\n      <td>90</td>\n      <td>21.0</td>\n      <td>Alsace</td>\n      <td>Alsace</td>\n      <td>NaN</td>\n      <td>Roger Voss</td>\n      <td>@vossroger</td>\n      <td>Domaine Schoffit 2012 Lieu-dit Harth Cuvée Car...</td>\n      <td>Gewürztraminer</td>\n      <td>Domaine Schoffit</td>\n    </tr>\n  </tbody>\n</table>\n<p>119955 rows × 14 columns</p>\n</div>"
     },
     "execution_count": 105,
     "metadata": {},
     "output_type": "execute_result"
    }
   ],
   "source": [
    "df = pd.read_csv('./data/wine_reviews.csv')\n",
    "#df.drop(columns=['Unnamed: 0'], inplace=True)\n",
    "df"
   ],
   "metadata": {
    "collapsed": false,
    "ExecuteTime": {
     "end_time": "2023-09-09T18:33:07.289923500Z",
     "start_time": "2023-09-09T18:33:06.388950400Z"
    }
   },
   "id": "842c373db8393526"
  },
  {
   "cell_type": "code",
   "execution_count": 97,
   "outputs": [],
   "source": [
    "df.drop_duplicates(subset='description', keep=\"last\", inplace=True)"
   ],
   "metadata": {
    "collapsed": false,
    "ExecuteTime": {
     "end_time": "2023-09-09T18:18:25.749950900Z",
     "start_time": "2023-09-09T18:18:25.698952800Z"
    }
   },
   "id": "4f600fe0b256ac1f"
  },
  {
   "cell_type": "code",
   "execution_count": 102,
   "outputs": [
    {
     "data": {
      "text/plain": "         country                                        description  \\\n0          Italy  Aromas include tropical fruit, broom, brimston...   \n1       Portugal  This is ripe and fruity, a wine that is smooth...   \n2             US  Tart and snappy, the flavors of lime flesh and...   \n3             US  Pineapple rind, lemon pith and orange blossom ...   \n4             US  Much like the regular bottling from 2012, this...   \n...          ...                                                ...   \n129966   Germany  Notes of honeysuckle and cantaloupe sweeten th...   \n129967        US  Citation is given as much as a decade of bottl...   \n129968    France  Well-drained gravel soil gives this wine its c...   \n129969    France  A dry style of Pinot Gris, this is crisp with ...   \n129970    France  Big, rich and off-dry, this is powered by inte...   \n\n                                   designation  points  price  \\\n0                                 Vulkà Bianco      87    NaN   \n1                                     Avidagos      87   15.0   \n2                                          NaN      87   14.0   \n3                         Reserve Late Harvest      87   13.0   \n4           Vintner's Reserve Wild Child Block      87   65.0   \n...                                        ...     ...    ...   \n129966  Brauneberger Juffer-Sonnenuhr Spätlese      90   28.0   \n129967                                     NaN      90   75.0   \n129968                                   Kritt      90   30.0   \n129969                                     NaN      90   32.0   \n129970           Lieu-dit Harth Cuvée Caroline      90   21.0   \n\n                 province             region_1           region_2  \\\n0       Sicily & Sardinia                 Etna                NaN   \n1                   Douro                  NaN                NaN   \n2                  Oregon    Willamette Valley  Willamette Valley   \n3                Michigan  Lake Michigan Shore                NaN   \n4                  Oregon    Willamette Valley  Willamette Valley   \n...                   ...                  ...                ...   \n129966              Mosel                  NaN                NaN   \n129967             Oregon               Oregon       Oregon Other   \n129968             Alsace               Alsace                NaN   \n129969             Alsace               Alsace                NaN   \n129970             Alsace               Alsace                NaN   \n\n               taster_name taster_twitter_handle  \\\n0            Kerin O’Keefe          @kerinokeefe   \n1               Roger Voss            @vossroger   \n2             Paul Gregutt           @paulgwine    \n3       Alexander Peartree                   NaN   \n4             Paul Gregutt           @paulgwine    \n...                    ...                   ...   \n129966  Anna Lee C. Iijima                   NaN   \n129967        Paul Gregutt           @paulgwine    \n129968          Roger Voss            @vossroger   \n129969          Roger Voss            @vossroger   \n129970          Roger Voss            @vossroger   \n\n                                                    title         variety  \\\n0                       Nicosia 2013 Vulkà Bianco  (Etna)     White Blend   \n1           Quinta dos Avidagos 2011 Avidagos Red (Douro)  Portuguese Red   \n2           Rainstorm 2013 Pinot Gris (Willamette Valley)      Pinot Gris   \n3       St. Julian 2013 Reserve Late Harvest Riesling ...        Riesling   \n4       Sweet Cheeks 2012 Vintner's Reserve Wild Child...      Pinot Noir   \n...                                                   ...             ...   \n129966  Dr. H. Thanisch (Erben Müller-Burggraef) 2013 ...        Riesling   \n129967                  Citation 2004 Pinot Noir (Oregon)      Pinot Noir   \n129968  Domaine Gresser 2013 Kritt Gewurztraminer (Als...  Gewürztraminer   \n129969      Domaine Marcel Deiss 2012 Pinot Gris (Alsace)      Pinot Gris   \n129970  Domaine Schoffit 2012 Lieu-dit Harth Cuvée Car...  Gewürztraminer   \n\n                                          winery  len_description  \n0                                        Nicosia              172  \n1                            Quinta dos Avidagos              227  \n2                                      Rainstorm              186  \n3                                     St. Julian              199  \n4                                   Sweet Cheeks              249  \n...                                          ...              ...  \n129966  Dr. H. Thanisch (Erben Müller-Burggraef)              227  \n129967                                  Citation              233  \n129968                           Domaine Gresser              225  \n129969                      Domaine Marcel Deiss              216  \n129970                          Domaine Schoffit              169  \n\n[119955 rows x 14 columns]",
      "text/html": "<div>\n<style scoped>\n    .dataframe tbody tr th:only-of-type {\n        vertical-align: middle;\n    }\n\n    .dataframe tbody tr th {\n        vertical-align: top;\n    }\n\n    .dataframe thead th {\n        text-align: right;\n    }\n</style>\n<table border=\"1\" class=\"dataframe\">\n  <thead>\n    <tr style=\"text-align: right;\">\n      <th></th>\n      <th>country</th>\n      <th>description</th>\n      <th>designation</th>\n      <th>points</th>\n      <th>price</th>\n      <th>province</th>\n      <th>region_1</th>\n      <th>region_2</th>\n      <th>taster_name</th>\n      <th>taster_twitter_handle</th>\n      <th>title</th>\n      <th>variety</th>\n      <th>winery</th>\n      <th>len_description</th>\n    </tr>\n  </thead>\n  <tbody>\n    <tr>\n      <th>0</th>\n      <td>Italy</td>\n      <td>Aromas include tropical fruit, broom, brimston...</td>\n      <td>Vulkà Bianco</td>\n      <td>87</td>\n      <td>NaN</td>\n      <td>Sicily &amp; Sardinia</td>\n      <td>Etna</td>\n      <td>NaN</td>\n      <td>Kerin O’Keefe</td>\n      <td>@kerinokeefe</td>\n      <td>Nicosia 2013 Vulkà Bianco  (Etna)</td>\n      <td>White Blend</td>\n      <td>Nicosia</td>\n      <td>172</td>\n    </tr>\n    <tr>\n      <th>1</th>\n      <td>Portugal</td>\n      <td>This is ripe and fruity, a wine that is smooth...</td>\n      <td>Avidagos</td>\n      <td>87</td>\n      <td>15.0</td>\n      <td>Douro</td>\n      <td>NaN</td>\n      <td>NaN</td>\n      <td>Roger Voss</td>\n      <td>@vossroger</td>\n      <td>Quinta dos Avidagos 2011 Avidagos Red (Douro)</td>\n      <td>Portuguese Red</td>\n      <td>Quinta dos Avidagos</td>\n      <td>227</td>\n    </tr>\n    <tr>\n      <th>2</th>\n      <td>US</td>\n      <td>Tart and snappy, the flavors of lime flesh and...</td>\n      <td>NaN</td>\n      <td>87</td>\n      <td>14.0</td>\n      <td>Oregon</td>\n      <td>Willamette Valley</td>\n      <td>Willamette Valley</td>\n      <td>Paul Gregutt</td>\n      <td>@paulgwine</td>\n      <td>Rainstorm 2013 Pinot Gris (Willamette Valley)</td>\n      <td>Pinot Gris</td>\n      <td>Rainstorm</td>\n      <td>186</td>\n    </tr>\n    <tr>\n      <th>3</th>\n      <td>US</td>\n      <td>Pineapple rind, lemon pith and orange blossom ...</td>\n      <td>Reserve Late Harvest</td>\n      <td>87</td>\n      <td>13.0</td>\n      <td>Michigan</td>\n      <td>Lake Michigan Shore</td>\n      <td>NaN</td>\n      <td>Alexander Peartree</td>\n      <td>NaN</td>\n      <td>St. Julian 2013 Reserve Late Harvest Riesling ...</td>\n      <td>Riesling</td>\n      <td>St. Julian</td>\n      <td>199</td>\n    </tr>\n    <tr>\n      <th>4</th>\n      <td>US</td>\n      <td>Much like the regular bottling from 2012, this...</td>\n      <td>Vintner's Reserve Wild Child Block</td>\n      <td>87</td>\n      <td>65.0</td>\n      <td>Oregon</td>\n      <td>Willamette Valley</td>\n      <td>Willamette Valley</td>\n      <td>Paul Gregutt</td>\n      <td>@paulgwine</td>\n      <td>Sweet Cheeks 2012 Vintner's Reserve Wild Child...</td>\n      <td>Pinot Noir</td>\n      <td>Sweet Cheeks</td>\n      <td>249</td>\n    </tr>\n    <tr>\n      <th>...</th>\n      <td>...</td>\n      <td>...</td>\n      <td>...</td>\n      <td>...</td>\n      <td>...</td>\n      <td>...</td>\n      <td>...</td>\n      <td>...</td>\n      <td>...</td>\n      <td>...</td>\n      <td>...</td>\n      <td>...</td>\n      <td>...</td>\n      <td>...</td>\n    </tr>\n    <tr>\n      <th>129966</th>\n      <td>Germany</td>\n      <td>Notes of honeysuckle and cantaloupe sweeten th...</td>\n      <td>Brauneberger Juffer-Sonnenuhr Spätlese</td>\n      <td>90</td>\n      <td>28.0</td>\n      <td>Mosel</td>\n      <td>NaN</td>\n      <td>NaN</td>\n      <td>Anna Lee C. Iijima</td>\n      <td>NaN</td>\n      <td>Dr. H. Thanisch (Erben Müller-Burggraef) 2013 ...</td>\n      <td>Riesling</td>\n      <td>Dr. H. Thanisch (Erben Müller-Burggraef)</td>\n      <td>227</td>\n    </tr>\n    <tr>\n      <th>129967</th>\n      <td>US</td>\n      <td>Citation is given as much as a decade of bottl...</td>\n      <td>NaN</td>\n      <td>90</td>\n      <td>75.0</td>\n      <td>Oregon</td>\n      <td>Oregon</td>\n      <td>Oregon Other</td>\n      <td>Paul Gregutt</td>\n      <td>@paulgwine</td>\n      <td>Citation 2004 Pinot Noir (Oregon)</td>\n      <td>Pinot Noir</td>\n      <td>Citation</td>\n      <td>233</td>\n    </tr>\n    <tr>\n      <th>129968</th>\n      <td>France</td>\n      <td>Well-drained gravel soil gives this wine its c...</td>\n      <td>Kritt</td>\n      <td>90</td>\n      <td>30.0</td>\n      <td>Alsace</td>\n      <td>Alsace</td>\n      <td>NaN</td>\n      <td>Roger Voss</td>\n      <td>@vossroger</td>\n      <td>Domaine Gresser 2013 Kritt Gewurztraminer (Als...</td>\n      <td>Gewürztraminer</td>\n      <td>Domaine Gresser</td>\n      <td>225</td>\n    </tr>\n    <tr>\n      <th>129969</th>\n      <td>France</td>\n      <td>A dry style of Pinot Gris, this is crisp with ...</td>\n      <td>NaN</td>\n      <td>90</td>\n      <td>32.0</td>\n      <td>Alsace</td>\n      <td>Alsace</td>\n      <td>NaN</td>\n      <td>Roger Voss</td>\n      <td>@vossroger</td>\n      <td>Domaine Marcel Deiss 2012 Pinot Gris (Alsace)</td>\n      <td>Pinot Gris</td>\n      <td>Domaine Marcel Deiss</td>\n      <td>216</td>\n    </tr>\n    <tr>\n      <th>129970</th>\n      <td>France</td>\n      <td>Big, rich and off-dry, this is powered by inte...</td>\n      <td>Lieu-dit Harth Cuvée Caroline</td>\n      <td>90</td>\n      <td>21.0</td>\n      <td>Alsace</td>\n      <td>Alsace</td>\n      <td>NaN</td>\n      <td>Roger Voss</td>\n      <td>@vossroger</td>\n      <td>Domaine Schoffit 2012 Lieu-dit Harth Cuvée Car...</td>\n      <td>Gewürztraminer</td>\n      <td>Domaine Schoffit</td>\n      <td>169</td>\n    </tr>\n  </tbody>\n</table>\n<p>119955 rows × 14 columns</p>\n</div>"
     },
     "execution_count": 102,
     "metadata": {},
     "output_type": "execute_result"
    }
   ],
   "source": [
    "df"
   ],
   "metadata": {
    "collapsed": false,
    "ExecuteTime": {
     "end_time": "2023-09-09T18:23:14.593998800Z",
     "start_time": "2023-09-09T18:23:14.569999800Z"
    }
   },
   "id": "73af8c298c49c190"
  },
  {
   "cell_type": "code",
   "execution_count": 98,
   "outputs": [],
   "source": [
    "df['len_description'] = df['description'].apply(lambda x: len(x))"
   ],
   "metadata": {
    "collapsed": false,
    "ExecuteTime": {
     "end_time": "2023-09-09T18:18:30.046673200Z",
     "start_time": "2023-09-09T18:18:29.985676Z"
    }
   },
   "id": "d0bda7c6f3c42651"
  },
  {
   "cell_type": "code",
   "execution_count": 99,
   "outputs": [
    {
     "data": {
      "text/plain": "<Axes: >"
     },
     "execution_count": 99,
     "metadata": {},
     "output_type": "execute_result"
    },
    {
     "data": {
      "text/plain": "<Figure size 640x480 with 1 Axes>",
      "image/png": "[encoded data removed]"
     },
     "metadata": {},
     "output_type": "display_data"
    }
   ],
   "source": [
    "df['len_description'].hist(bins=50)"
   ],
   "metadata": {
    "collapsed": false,
    "ExecuteTime": {
     "end_time": "2023-09-09T18:18:31.116080200Z",
     "start_time": "2023-09-09T18:18:30.849182300Z"
    }
   },
   "id": "c376a386ad807d8a"
  },
  {
   "cell_type": "code",
   "execution_count": 106,
   "outputs": [
    {
     "data": {
      "text/plain": "title\nGloria Ferrer NV Sonoma Brut Sparkling (Sonoma County)                         9\nSegura Viudas NV Aria Estate Extra Dry Sparkling (Cava)                        7\nSegura Viudas NV Extra Dry Sparkling (Cava)                                    7\nJ Vineyards & Winery NV Brut Rosé Sparkling (Russian River Valley)             6\nRuinart NV Brut Rosé  (Champagne)                                              6\n                                                                              ..\nWilson 2014 McClain Primitivo (Alexander Valley)                               1\nVista Hills 2014 Pinot Gris Rosé (Willamette Valley)                           1\nValentin Bianchi 2016 Elsa Bianchi Chardonnay (Mendoza)                        1\nTenute Orestiadi 2016 Bio Grillo (Terre Siciliane)                             1\nDomaine Schoffit 2012 Lieu-dit Harth Cuvée Caroline Gewurztraminer (Alsace)    1\nName: count, Length: 118807, dtype: int64"
     },
     "execution_count": 106,
     "metadata": {},
     "output_type": "execute_result"
    }
   ],
   "source": [
    "df['title'].value_counts()"
   ],
   "metadata": {
    "collapsed": false,
    "ExecuteTime": {
     "end_time": "2023-09-09T18:33:29.014026300Z",
     "start_time": "2023-09-09T18:33:28.989043100Z"
    }
   },
   "id": "52bb63a6230d757e"
  },
  {
   "cell_type": "code",
   "execution_count": 101,
   "outputs": [
    {
     "data": {
      "text/plain": "       country                                        description  \\\n4399        US  Made predominantly from Pinot Noir, this is an...   \n27773       US  A wonderfully drinkable sparkling wine that ap...   \n65584       US  Made from mostly Pinot Noir grapes, with an ad...   \n81563       US  This wine shows lots of finesse for the price....   \n90689       US  Creamy, lush and somewhat robust, this dry spa...   \n94321       US  A bit rough and scouring in texture, this tast...   \n100738      US  A good, dry and elegant bubbly. Shows crisp fl...   \n109001      US  From almost 92% Pinot Noir with the remainder ...   \n122208      US  This bubbly is rich in cherry and raspberry fr...   \n\n        designation  points  price    province       region_1 region_2  \\\n4399    Sonoma Brut      88   22.0  California  Sonoma County   Sonoma   \n27773   Sonoma Brut      90   20.0  California  Sonoma County   Sonoma   \n65584   Sonoma Brut      92   22.0  California  Sonoma County   Sonoma   \n81563   Sonoma Brut      89   24.0  California  Sonoma County   Sonoma   \n90689   Sonoma Brut      90   22.0  California  Sonoma County   Sonoma   \n94321   Sonoma Brut      85   20.0  California  Sonoma County   Sonoma   \n100738  Sonoma Brut      89   20.0  California  Sonoma County   Sonoma   \n109001  Sonoma Brut      88   22.0  California  Sonoma County   Sonoma   \n122208  Sonoma Brut      86   20.0  California  Sonoma County   Sonoma   \n\n           taster_name taster_twitter_handle  \\\n4399    Virginie Boone               @vboone   \n27773              NaN                   NaN   \n65584   Virginie Boone               @vboone   \n81563              NaN                   NaN   \n90689   Virginie Boone               @vboone   \n94321              NaN                   NaN   \n100738             NaN                   NaN   \n109001  Virginie Boone               @vboone   \n122208             NaN                   NaN   \n\n                                                    title          variety  \\\n4399    Gloria Ferrer NV Sonoma Brut Sparkling (Sonoma...  Sparkling Blend   \n27773   Gloria Ferrer NV Sonoma Brut Sparkling (Sonoma...  Sparkling Blend   \n65584   Gloria Ferrer NV Sonoma Brut Sparkling (Sonoma...  Sparkling Blend   \n81563   Gloria Ferrer NV Sonoma Brut Sparkling (Sonoma...  Sparkling Blend   \n90689   Gloria Ferrer NV Sonoma Brut Sparkling (Sonoma...  Sparkling Blend   \n94321   Gloria Ferrer NV Sonoma Brut Sparkling (Sonoma...  Sparkling Blend   \n100738  Gloria Ferrer NV Sonoma Brut Sparkling (Sonoma...  Sparkling Blend   \n109001  Gloria Ferrer NV Sonoma Brut Sparkling (Sonoma...  Sparkling Blend   \n122208  Gloria Ferrer NV Sonoma Brut Sparkling (Sonoma...  Sparkling Blend   \n\n               winery  len_description  \n4399    Gloria Ferrer              221  \n27773   Gloria Ferrer              254  \n65584   Gloria Ferrer              252  \n81563   Gloria Ferrer              218  \n90689   Gloria Ferrer              156  \n94321   Gloria Ferrer              152  \n100738  Gloria Ferrer              178  \n109001  Gloria Ferrer              200  \n122208  Gloria Ferrer              215  ",
      "text/html": "<div>\n<style scoped>\n    .dataframe tbody tr th:only-of-type {\n        vertical-align: middle;\n    }\n\n    .dataframe tbody tr th {\n        vertical-align: top;\n    }\n\n    .dataframe thead th {\n        text-align: right;\n    }\n</style>\n<table border=\"1\" class=\"dataframe\">\n  <thead>\n    <tr style=\"text-align: right;\">\n      <th></th>\n      <th>country</th>\n      <th>description</th>\n      <th>designation</th>\n      <th>points</th>\n      <th>price</th>\n      <th>province</th>\n      <th>region_1</th>\n      <th>region_2</th>\n      <th>taster_name</th>\n      <th>taster_twitter_handle</th>\n      <th>title</th>\n      <th>variety</th>\n      <th>winery</th>\n      <th>len_description</th>\n    </tr>\n  </thead>\n  <tbody>\n    <tr>\n      <th>4399</th>\n      <td>US</td>\n      <td>Made predominantly from Pinot Noir, this is an...</td>\n      <td>Sonoma Brut</td>\n      <td>88</td>\n      <td>22.0</td>\n      <td>California</td>\n      <td>Sonoma County</td>\n      <td>Sonoma</td>\n      <td>Virginie Boone</td>\n      <td>@vboone</td>\n      <td>Gloria Ferrer NV Sonoma Brut Sparkling (Sonoma...</td>\n      <td>Sparkling Blend</td>\n      <td>Gloria Ferrer</td>\n      <td>221</td>\n    </tr>\n    <tr>\n      <th>27773</th>\n      <td>US</td>\n      <td>A wonderfully drinkable sparkling wine that ap...</td>\n      <td>Sonoma Brut</td>\n      <td>90</td>\n      <td>20.0</td>\n      <td>California</td>\n      <td>Sonoma County</td>\n      <td>Sonoma</td>\n      <td>NaN</td>\n      <td>NaN</td>\n      <td>Gloria Ferrer NV Sonoma Brut Sparkling (Sonoma...</td>\n      <td>Sparkling Blend</td>\n      <td>Gloria Ferrer</td>\n      <td>254</td>\n    </tr>\n    <tr>\n      <th>65584</th>\n      <td>US</td>\n      <td>Made from mostly Pinot Noir grapes, with an ad...</td>\n      <td>Sonoma Brut</td>\n      <td>92</td>\n      <td>22.0</td>\n      <td>California</td>\n      <td>Sonoma County</td>\n      <td>Sonoma</td>\n      <td>Virginie Boone</td>\n      <td>@vboone</td>\n      <td>Gloria Ferrer NV Sonoma Brut Sparkling (Sonoma...</td>\n      <td>Sparkling Blend</td>\n      <td>Gloria Ferrer</td>\n      <td>252</td>\n    </tr>\n    <tr>\n      <th>81563</th>\n      <td>US</td>\n      <td>This wine shows lots of finesse for the price....</td>\n      <td>Sonoma Brut</td>\n      <td>89</td>\n      <td>24.0</td>\n      <td>California</td>\n      <td>Sonoma County</td>\n      <td>Sonoma</td>\n      <td>NaN</td>\n      <td>NaN</td>\n      <td>Gloria Ferrer NV Sonoma Brut Sparkling (Sonoma...</td>\n      <td>Sparkling Blend</td>\n      <td>Gloria Ferrer</td>\n      <td>218</td>\n    </tr>\n    <tr>\n      <th>90689</th>\n      <td>US</td>\n      <td>Creamy, lush and somewhat robust, this dry spa...</td>\n      <td>Sonoma Brut</td>\n      <td>90</td>\n      <td>22.0</td>\n      <td>California</td>\n      <td>Sonoma County</td>\n      <td>Sonoma</td>\n      <td>Virginie Boone</td>\n      <td>@vboone</td>\n      <td>Gloria Ferrer NV Sonoma Brut Sparkling (Sonoma...</td>\n      <td>Sparkling Blend</td>\n      <td>Gloria Ferrer</td>\n      <td>156</td>\n    </tr>\n    <tr>\n      <th>94321</th>\n      <td>US</td>\n      <td>A bit rough and scouring in texture, this tast...</td>\n      <td>Sonoma Brut</td>\n      <td>85</td>\n      <td>20.0</td>\n      <td>California</td>\n      <td>Sonoma County</td>\n      <td>Sonoma</td>\n      <td>NaN</td>\n      <td>NaN</td>\n      <td>Gloria Ferrer NV Sonoma Brut Sparkling (Sonoma...</td>\n      <td>Sparkling Blend</td>\n      <td>Gloria Ferrer</td>\n      <td>152</td>\n    </tr>\n    <tr>\n      <th>100738</th>\n      <td>US</td>\n      <td>A good, dry and elegant bubbly. Shows crisp fl...</td>\n      <td>Sonoma Brut</td>\n      <td>89</td>\n      <td>20.0</td>\n      <td>California</td>\n      <td>Sonoma County</td>\n      <td>Sonoma</td>\n      <td>NaN</td>\n      <td>NaN</td>\n      <td>Gloria Ferrer NV Sonoma Brut Sparkling (Sonoma...</td>\n      <td>Sparkling Blend</td>\n      <td>Gloria Ferrer</td>\n      <td>178</td>\n    </tr>\n    <tr>\n      <th>109001</th>\n      <td>US</td>\n      <td>From almost 92% Pinot Noir with the remainder ...</td>\n      <td>Sonoma Brut</td>\n      <td>88</td>\n      <td>22.0</td>\n      <td>California</td>\n      <td>Sonoma County</td>\n      <td>Sonoma</td>\n      <td>Virginie Boone</td>\n      <td>@vboone</td>\n      <td>Gloria Ferrer NV Sonoma Brut Sparkling (Sonoma...</td>\n      <td>Sparkling Blend</td>\n      <td>Gloria Ferrer</td>\n      <td>200</td>\n    </tr>\n    <tr>\n      <th>122208</th>\n      <td>US</td>\n      <td>This bubbly is rich in cherry and raspberry fr...</td>\n      <td>Sonoma Brut</td>\n      <td>86</td>\n      <td>20.0</td>\n      <td>California</td>\n      <td>Sonoma County</td>\n      <td>Sonoma</td>\n      <td>NaN</td>\n      <td>NaN</td>\n      <td>Gloria Ferrer NV Sonoma Brut Sparkling (Sonoma...</td>\n      <td>Sparkling Blend</td>\n      <td>Gloria Ferrer</td>\n      <td>215</td>\n    </tr>\n  </tbody>\n</table>\n</div>"
     },
     "execution_count": 101,
     "metadata": {},
     "output_type": "execute_result"
    }
   ],
   "source": [
    "df[df['title'] == 'Gloria Ferrer NV Sonoma Brut Sparkling (Sonoma County)']"
   ],
   "metadata": {
    "collapsed": false,
    "ExecuteTime": {
     "end_time": "2023-09-09T18:18:38.264633300Z",
     "start_time": "2023-09-09T18:18:38.226635Z"
    }
   },
   "id": "d90b7829b694df8c"
  },
  {
   "cell_type": "code",
   "execution_count": 96,
   "outputs": [
    {
     "name": "stdout",
     "output_type": "stream",
     "text": [
      "Made from mostly Pinot Noir grapes, with an addition of 8.8% Chardonnay, this Méthode Champenoise wine is sultry in raspberry cream and crème brûlée, with enough acidity to keep it fresh in the glass. The finish offers a taste of toast with ginger jam.\n",
      "Made from mostly Pinot Noir grapes, with an addition of 8.8% Chardonnay, this Méthode Champenoise wine is sultry in raspberry cream and crème brûlée, with enough acidity to keep it fresh in the glass. The finish offers a taste of toast with ginger jam.\n"
     ]
    }
   ],
   "source": [
    "print(df['description'][63179])\n",
    "print(df['description'][65584])"
   ],
   "metadata": {
    "collapsed": false,
    "ExecuteTime": {
     "end_time": "2023-09-09T18:18:02.501630200Z",
     "start_time": "2023-09-09T18:18:02.465630800Z"
    }
   },
   "id": "410c6c3a63f38e89"
  },
  {
   "cell_type": "code",
   "execution_count": 73,
   "outputs": [
    {
     "ename": "KeyboardInterrupt",
     "evalue": "",
     "output_type": "error",
     "traceback": [
      "\u001B[1;31m---------------------------------------------------------------------------\u001B[0m",
      "\u001B[1;31mKeyboardInterrupt\u001B[0m                         Traceback (most recent call last)",
      "Cell \u001B[1;32mIn[73], line 4\u001B[0m\n\u001B[0;32m      2\u001B[0m df[\u001B[38;5;124m'\u001B[39m\u001B[38;5;124mdescription_clean\u001B[39m\u001B[38;5;124m'\u001B[39m] \u001B[38;5;241m=\u001B[39m df[\u001B[38;5;124m'\u001B[39m\u001B[38;5;124mdescription_clean\u001B[39m\u001B[38;5;124m'\u001B[39m]\u001B[38;5;241m.\u001B[39mapply(\u001B[38;5;28;01mlambda\u001B[39;00m x: remove_stopwords(x))\n\u001B[0;32m      3\u001B[0m df[\u001B[38;5;124m'\u001B[39m\u001B[38;5;124mdescription_clean\u001B[39m\u001B[38;5;124m'\u001B[39m] \u001B[38;5;241m=\u001B[39m df[\u001B[38;5;124m'\u001B[39m\u001B[38;5;124mdescription_clean\u001B[39m\u001B[38;5;124m'\u001B[39m]\u001B[38;5;241m.\u001B[39mapply(\u001B[38;5;28;01mlambda\u001B[39;00m x: strip_punctuation(x))\n\u001B[1;32m----> 4\u001B[0m df[\u001B[38;5;124m'\u001B[39m\u001B[38;5;124mdescription_clean\u001B[39m\u001B[38;5;124m'\u001B[39m] \u001B[38;5;241m=\u001B[39m \u001B[43mdf\u001B[49m\u001B[43m[\u001B[49m\u001B[38;5;124;43m'\u001B[39;49m\u001B[38;5;124;43mdescription_clean\u001B[39;49m\u001B[38;5;124;43m'\u001B[39;49m\u001B[43m]\u001B[49m\u001B[38;5;241;43m.\u001B[39;49m\u001B[43mapply\u001B[49m\u001B[43m(\u001B[49m\u001B[38;5;28;43;01mlambda\u001B[39;49;00m\u001B[43m \u001B[49m\u001B[43mx\u001B[49m\u001B[43m:\u001B[49m\u001B[43m \u001B[49m\u001B[43mword_tokenize\u001B[49m\u001B[43m(\u001B[49m\u001B[43mx\u001B[49m\u001B[43m)\u001B[49m\u001B[43m)\u001B[49m\n\u001B[0;32m      5\u001B[0m df[\u001B[38;5;124m'\u001B[39m\u001B[38;5;124mdescription_clean\u001B[39m\u001B[38;5;124m'\u001B[39m] \u001B[38;5;241m=\u001B[39m df[\u001B[38;5;124m'\u001B[39m\u001B[38;5;124mdescription_clean\u001B[39m\u001B[38;5;124m'\u001B[39m]\u001B[38;5;241m.\u001B[39mapply(\u001B[38;5;28;01mlambda\u001B[39;00m x: [wnl\u001B[38;5;241m.\u001B[39mlemmatize(i) \u001B[38;5;28;01mfor\u001B[39;00m i \u001B[38;5;129;01min\u001B[39;00m x])\n\u001B[0;32m      6\u001B[0m df[\u001B[38;5;124m'\u001B[39m\u001B[38;5;124mdescription_clean\u001B[39m\u001B[38;5;124m'\u001B[39m] \u001B[38;5;241m=\u001B[39m df[\u001B[38;5;124m'\u001B[39m\u001B[38;5;124mdescription_clean\u001B[39m\u001B[38;5;124m'\u001B[39m]\u001B[38;5;241m.\u001B[39mapply(\u001B[38;5;28;01mlambda\u001B[39;00m x: remove_short_tokens(x))\n",
      "File \u001B[1;32mD:\\pycharm_projects\\wine\\venv\\lib\\site-packages\\pandas\\core\\series.py:4765\u001B[0m, in \u001B[0;36mSeries.apply\u001B[1;34m(self, func, convert_dtype, args, by_row, **kwargs)\u001B[0m\n\u001B[0;32m   4625\u001B[0m \u001B[38;5;28;01mdef\u001B[39;00m \u001B[38;5;21mapply\u001B[39m(\n\u001B[0;32m   4626\u001B[0m     \u001B[38;5;28mself\u001B[39m,\n\u001B[0;32m   4627\u001B[0m     func: AggFuncType,\n\u001B[1;32m   (...)\u001B[0m\n\u001B[0;32m   4632\u001B[0m     \u001B[38;5;241m*\u001B[39m\u001B[38;5;241m*\u001B[39mkwargs,\n\u001B[0;32m   4633\u001B[0m ) \u001B[38;5;241m-\u001B[39m\u001B[38;5;241m>\u001B[39m DataFrame \u001B[38;5;241m|\u001B[39m Series:\n\u001B[0;32m   4634\u001B[0m \u001B[38;5;250m    \u001B[39m\u001B[38;5;124;03m\"\"\"\u001B[39;00m\n\u001B[0;32m   4635\u001B[0m \u001B[38;5;124;03m    Invoke function on values of Series.\u001B[39;00m\n\u001B[0;32m   4636\u001B[0m \n\u001B[1;32m   (...)\u001B[0m\n\u001B[0;32m   4756\u001B[0m \u001B[38;5;124;03m    dtype: float64\u001B[39;00m\n\u001B[0;32m   4757\u001B[0m \u001B[38;5;124;03m    \"\"\"\u001B[39;00m\n\u001B[0;32m   4758\u001B[0m     \u001B[38;5;28;01mreturn\u001B[39;00m \u001B[43mSeriesApply\u001B[49m\u001B[43m(\u001B[49m\n\u001B[0;32m   4759\u001B[0m \u001B[43m        \u001B[49m\u001B[38;5;28;43mself\u001B[39;49m\u001B[43m,\u001B[49m\n\u001B[0;32m   4760\u001B[0m \u001B[43m        \u001B[49m\u001B[43mfunc\u001B[49m\u001B[43m,\u001B[49m\n\u001B[0;32m   4761\u001B[0m \u001B[43m        \u001B[49m\u001B[43mconvert_dtype\u001B[49m\u001B[38;5;241;43m=\u001B[39;49m\u001B[43mconvert_dtype\u001B[49m\u001B[43m,\u001B[49m\n\u001B[0;32m   4762\u001B[0m \u001B[43m        \u001B[49m\u001B[43mby_row\u001B[49m\u001B[38;5;241;43m=\u001B[39;49m\u001B[43mby_row\u001B[49m\u001B[43m,\u001B[49m\n\u001B[0;32m   4763\u001B[0m \u001B[43m        \u001B[49m\u001B[43margs\u001B[49m\u001B[38;5;241;43m=\u001B[39;49m\u001B[43margs\u001B[49m\u001B[43m,\u001B[49m\n\u001B[0;32m   4764\u001B[0m \u001B[43m        \u001B[49m\u001B[43mkwargs\u001B[49m\u001B[38;5;241;43m=\u001B[39;49m\u001B[43mkwargs\u001B[49m\u001B[43m,\u001B[49m\n\u001B[1;32m-> 4765\u001B[0m \u001B[43m    \u001B[49m\u001B[43m)\u001B[49m\u001B[38;5;241;43m.\u001B[39;49m\u001B[43mapply\u001B[49m\u001B[43m(\u001B[49m\u001B[43m)\u001B[49m\n",
      "File \u001B[1;32mD:\\pycharm_projects\\wine\\venv\\lib\\site-packages\\pandas\\core\\apply.py:1201\u001B[0m, in \u001B[0;36mSeriesApply.apply\u001B[1;34m(self)\u001B[0m\n\u001B[0;32m   1198\u001B[0m     \u001B[38;5;28;01mreturn\u001B[39;00m \u001B[38;5;28mself\u001B[39m\u001B[38;5;241m.\u001B[39mapply_compat()\n\u001B[0;32m   1200\u001B[0m \u001B[38;5;66;03m# self.func is Callable\u001B[39;00m\n\u001B[1;32m-> 1201\u001B[0m \u001B[38;5;28;01mreturn\u001B[39;00m \u001B[38;5;28;43mself\u001B[39;49m\u001B[38;5;241;43m.\u001B[39;49m\u001B[43mapply_standard\u001B[49m\u001B[43m(\u001B[49m\u001B[43m)\u001B[49m\n",
      "File \u001B[1;32mD:\\pycharm_projects\\wine\\venv\\lib\\site-packages\\pandas\\core\\apply.py:1281\u001B[0m, in \u001B[0;36mSeriesApply.apply_standard\u001B[1;34m(self)\u001B[0m\n\u001B[0;32m   1275\u001B[0m \u001B[38;5;66;03m# row-wise access\u001B[39;00m\n\u001B[0;32m   1276\u001B[0m \u001B[38;5;66;03m# apply doesn't have a `na_action` keyword and for backward compat reasons\u001B[39;00m\n\u001B[0;32m   1277\u001B[0m \u001B[38;5;66;03m# we need to give `na_action=\"ignore\"` for categorical data.\u001B[39;00m\n\u001B[0;32m   1278\u001B[0m \u001B[38;5;66;03m# TODO: remove the `na_action=\"ignore\"` when that default has been changed in\u001B[39;00m\n\u001B[0;32m   1279\u001B[0m \u001B[38;5;66;03m#  Categorical (GH51645).\u001B[39;00m\n\u001B[0;32m   1280\u001B[0m action \u001B[38;5;241m=\u001B[39m \u001B[38;5;124m\"\u001B[39m\u001B[38;5;124mignore\u001B[39m\u001B[38;5;124m\"\u001B[39m \u001B[38;5;28;01mif\u001B[39;00m \u001B[38;5;28misinstance\u001B[39m(obj\u001B[38;5;241m.\u001B[39mdtype, CategoricalDtype) \u001B[38;5;28;01melse\u001B[39;00m \u001B[38;5;28;01mNone\u001B[39;00m\n\u001B[1;32m-> 1281\u001B[0m mapped \u001B[38;5;241m=\u001B[39m \u001B[43mobj\u001B[49m\u001B[38;5;241;43m.\u001B[39;49m\u001B[43m_map_values\u001B[49m\u001B[43m(\u001B[49m\n\u001B[0;32m   1282\u001B[0m \u001B[43m    \u001B[49m\u001B[43mmapper\u001B[49m\u001B[38;5;241;43m=\u001B[39;49m\u001B[43mcurried\u001B[49m\u001B[43m,\u001B[49m\u001B[43m \u001B[49m\u001B[43mna_action\u001B[49m\u001B[38;5;241;43m=\u001B[39;49m\u001B[43maction\u001B[49m\u001B[43m,\u001B[49m\u001B[43m \u001B[49m\u001B[43mconvert\u001B[49m\u001B[38;5;241;43m=\u001B[39;49m\u001B[38;5;28;43mself\u001B[39;49m\u001B[38;5;241;43m.\u001B[39;49m\u001B[43mconvert_dtype\u001B[49m\n\u001B[0;32m   1283\u001B[0m \u001B[43m\u001B[49m\u001B[43m)\u001B[49m\n\u001B[0;32m   1285\u001B[0m \u001B[38;5;28;01mif\u001B[39;00m \u001B[38;5;28mlen\u001B[39m(mapped) \u001B[38;5;129;01mand\u001B[39;00m \u001B[38;5;28misinstance\u001B[39m(mapped[\u001B[38;5;241m0\u001B[39m], ABCSeries):\n\u001B[0;32m   1286\u001B[0m     warnings\u001B[38;5;241m.\u001B[39mwarn(\n\u001B[0;32m   1287\u001B[0m         \u001B[38;5;124m\"\u001B[39m\u001B[38;5;124mReturning a DataFrame from Series.apply when the supplied function \u001B[39m\u001B[38;5;124m\"\u001B[39m\n\u001B[0;32m   1288\u001B[0m         \u001B[38;5;124m\"\u001B[39m\u001B[38;5;124mreturns a Series is deprecated and will be removed in a future \u001B[39m\u001B[38;5;124m\"\u001B[39m\n\u001B[1;32m   (...)\u001B[0m\n\u001B[0;32m   1291\u001B[0m         stacklevel\u001B[38;5;241m=\u001B[39mfind_stack_level(),\n\u001B[0;32m   1292\u001B[0m     )  \u001B[38;5;66;03m# GH52116\u001B[39;00m\n",
      "File \u001B[1;32mD:\\pycharm_projects\\wine\\venv\\lib\\site-packages\\pandas\\core\\base.py:921\u001B[0m, in \u001B[0;36mIndexOpsMixin._map_values\u001B[1;34m(self, mapper, na_action, convert)\u001B[0m\n\u001B[0;32m    918\u001B[0m \u001B[38;5;28;01mif\u001B[39;00m \u001B[38;5;28misinstance\u001B[39m(arr, ExtensionArray):\n\u001B[0;32m    919\u001B[0m     \u001B[38;5;28;01mreturn\u001B[39;00m arr\u001B[38;5;241m.\u001B[39mmap(mapper, na_action\u001B[38;5;241m=\u001B[39mna_action)\n\u001B[1;32m--> 921\u001B[0m \u001B[38;5;28;01mreturn\u001B[39;00m \u001B[43malgorithms\u001B[49m\u001B[38;5;241;43m.\u001B[39;49m\u001B[43mmap_array\u001B[49m\u001B[43m(\u001B[49m\u001B[43marr\u001B[49m\u001B[43m,\u001B[49m\u001B[43m \u001B[49m\u001B[43mmapper\u001B[49m\u001B[43m,\u001B[49m\u001B[43m \u001B[49m\u001B[43mna_action\u001B[49m\u001B[38;5;241;43m=\u001B[39;49m\u001B[43mna_action\u001B[49m\u001B[43m,\u001B[49m\u001B[43m \u001B[49m\u001B[43mconvert\u001B[49m\u001B[38;5;241;43m=\u001B[39;49m\u001B[43mconvert\u001B[49m\u001B[43m)\u001B[49m\n",
      "File \u001B[1;32mD:\\pycharm_projects\\wine\\venv\\lib\\site-packages\\pandas\\core\\algorithms.py:1812\u001B[0m, in \u001B[0;36mmap_array\u001B[1;34m(arr, mapper, na_action, convert)\u001B[0m\n\u001B[0;32m   1810\u001B[0m values \u001B[38;5;241m=\u001B[39m arr\u001B[38;5;241m.\u001B[39mastype(\u001B[38;5;28mobject\u001B[39m, copy\u001B[38;5;241m=\u001B[39m\u001B[38;5;28;01mFalse\u001B[39;00m)\n\u001B[0;32m   1811\u001B[0m \u001B[38;5;28;01mif\u001B[39;00m na_action \u001B[38;5;129;01mis\u001B[39;00m \u001B[38;5;28;01mNone\u001B[39;00m:\n\u001B[1;32m-> 1812\u001B[0m     \u001B[38;5;28;01mreturn\u001B[39;00m \u001B[43mlib\u001B[49m\u001B[38;5;241;43m.\u001B[39;49m\u001B[43mmap_infer\u001B[49m\u001B[43m(\u001B[49m\u001B[43mvalues\u001B[49m\u001B[43m,\u001B[49m\u001B[43m \u001B[49m\u001B[43mmapper\u001B[49m\u001B[43m,\u001B[49m\u001B[43m \u001B[49m\u001B[43mconvert\u001B[49m\u001B[38;5;241;43m=\u001B[39;49m\u001B[43mconvert\u001B[49m\u001B[43m)\u001B[49m\n\u001B[0;32m   1813\u001B[0m \u001B[38;5;28;01melse\u001B[39;00m:\n\u001B[0;32m   1814\u001B[0m     \u001B[38;5;28;01mreturn\u001B[39;00m lib\u001B[38;5;241m.\u001B[39mmap_infer_mask(\n\u001B[0;32m   1815\u001B[0m         values, mapper, mask\u001B[38;5;241m=\u001B[39misna(values)\u001B[38;5;241m.\u001B[39mview(np\u001B[38;5;241m.\u001B[39muint8), convert\u001B[38;5;241m=\u001B[39mconvert\n\u001B[0;32m   1816\u001B[0m     )\n",
      "File \u001B[1;32mlib.pyx:2917\u001B[0m, in \u001B[0;36mpandas._libs.lib.map_infer\u001B[1;34m()\u001B[0m\n",
      "Cell \u001B[1;32mIn[73], line 4\u001B[0m, in \u001B[0;36m<lambda>\u001B[1;34m(x)\u001B[0m\n\u001B[0;32m      2\u001B[0m df[\u001B[38;5;124m'\u001B[39m\u001B[38;5;124mdescription_clean\u001B[39m\u001B[38;5;124m'\u001B[39m] \u001B[38;5;241m=\u001B[39m df[\u001B[38;5;124m'\u001B[39m\u001B[38;5;124mdescription_clean\u001B[39m\u001B[38;5;124m'\u001B[39m]\u001B[38;5;241m.\u001B[39mapply(\u001B[38;5;28;01mlambda\u001B[39;00m x: remove_stopwords(x))\n\u001B[0;32m      3\u001B[0m df[\u001B[38;5;124m'\u001B[39m\u001B[38;5;124mdescription_clean\u001B[39m\u001B[38;5;124m'\u001B[39m] \u001B[38;5;241m=\u001B[39m df[\u001B[38;5;124m'\u001B[39m\u001B[38;5;124mdescription_clean\u001B[39m\u001B[38;5;124m'\u001B[39m]\u001B[38;5;241m.\u001B[39mapply(\u001B[38;5;28;01mlambda\u001B[39;00m x: strip_punctuation(x))\n\u001B[1;32m----> 4\u001B[0m df[\u001B[38;5;124m'\u001B[39m\u001B[38;5;124mdescription_clean\u001B[39m\u001B[38;5;124m'\u001B[39m] \u001B[38;5;241m=\u001B[39m df[\u001B[38;5;124m'\u001B[39m\u001B[38;5;124mdescription_clean\u001B[39m\u001B[38;5;124m'\u001B[39m]\u001B[38;5;241m.\u001B[39mapply(\u001B[38;5;28;01mlambda\u001B[39;00m x: \u001B[43mword_tokenize\u001B[49m\u001B[43m(\u001B[49m\u001B[43mx\u001B[49m\u001B[43m)\u001B[49m)\n\u001B[0;32m      5\u001B[0m df[\u001B[38;5;124m'\u001B[39m\u001B[38;5;124mdescription_clean\u001B[39m\u001B[38;5;124m'\u001B[39m] \u001B[38;5;241m=\u001B[39m df[\u001B[38;5;124m'\u001B[39m\u001B[38;5;124mdescription_clean\u001B[39m\u001B[38;5;124m'\u001B[39m]\u001B[38;5;241m.\u001B[39mapply(\u001B[38;5;28;01mlambda\u001B[39;00m x: [wnl\u001B[38;5;241m.\u001B[39mlemmatize(i) \u001B[38;5;28;01mfor\u001B[39;00m i \u001B[38;5;129;01min\u001B[39;00m x])\n\u001B[0;32m      6\u001B[0m df[\u001B[38;5;124m'\u001B[39m\u001B[38;5;124mdescription_clean\u001B[39m\u001B[38;5;124m'\u001B[39m] \u001B[38;5;241m=\u001B[39m df[\u001B[38;5;124m'\u001B[39m\u001B[38;5;124mdescription_clean\u001B[39m\u001B[38;5;124m'\u001B[39m]\u001B[38;5;241m.\u001B[39mapply(\u001B[38;5;28;01mlambda\u001B[39;00m x: remove_short_tokens(x))\n",
      "File \u001B[1;32mD:\\pycharm_projects\\wine\\venv\\lib\\site-packages\\nltk\\tokenize\\__init__.py:130\u001B[0m, in \u001B[0;36mword_tokenize\u001B[1;34m(text, language, preserve_line)\u001B[0m\n\u001B[0;32m    115\u001B[0m \u001B[38;5;250m\u001B[39m\u001B[38;5;124;03m\"\"\"\u001B[39;00m\n\u001B[0;32m    116\u001B[0m \u001B[38;5;124;03mReturn a tokenized copy of *text*,\u001B[39;00m\n\u001B[0;32m    117\u001B[0m \u001B[38;5;124;03musing NLTK's recommended word tokenizer\u001B[39;00m\n\u001B[1;32m   (...)\u001B[0m\n\u001B[0;32m    127\u001B[0m \u001B[38;5;124;03m:type preserve_line: bool\u001B[39;00m\n\u001B[0;32m    128\u001B[0m \u001B[38;5;124;03m\"\"\"\u001B[39;00m\n\u001B[0;32m    129\u001B[0m sentences \u001B[38;5;241m=\u001B[39m [text] \u001B[38;5;28;01mif\u001B[39;00m preserve_line \u001B[38;5;28;01melse\u001B[39;00m sent_tokenize(text, language)\n\u001B[1;32m--> 130\u001B[0m \u001B[38;5;28;01mreturn\u001B[39;00m [\n\u001B[0;32m    131\u001B[0m     token \u001B[38;5;28;01mfor\u001B[39;00m sent \u001B[38;5;129;01min\u001B[39;00m sentences \u001B[38;5;28;01mfor\u001B[39;00m token \u001B[38;5;129;01min\u001B[39;00m _treebank_word_tokenizer\u001B[38;5;241m.\u001B[39mtokenize(sent)\n\u001B[0;32m    132\u001B[0m ]\n",
      "File \u001B[1;32mD:\\pycharm_projects\\wine\\venv\\lib\\site-packages\\nltk\\tokenize\\__init__.py:131\u001B[0m, in \u001B[0;36m<listcomp>\u001B[1;34m(.0)\u001B[0m\n\u001B[0;32m    115\u001B[0m \u001B[38;5;250m\u001B[39m\u001B[38;5;124;03m\"\"\"\u001B[39;00m\n\u001B[0;32m    116\u001B[0m \u001B[38;5;124;03mReturn a tokenized copy of *text*,\u001B[39;00m\n\u001B[0;32m    117\u001B[0m \u001B[38;5;124;03musing NLTK's recommended word tokenizer\u001B[39;00m\n\u001B[1;32m   (...)\u001B[0m\n\u001B[0;32m    127\u001B[0m \u001B[38;5;124;03m:type preserve_line: bool\u001B[39;00m\n\u001B[0;32m    128\u001B[0m \u001B[38;5;124;03m\"\"\"\u001B[39;00m\n\u001B[0;32m    129\u001B[0m sentences \u001B[38;5;241m=\u001B[39m [text] \u001B[38;5;28;01mif\u001B[39;00m preserve_line \u001B[38;5;28;01melse\u001B[39;00m sent_tokenize(text, language)\n\u001B[0;32m    130\u001B[0m \u001B[38;5;28;01mreturn\u001B[39;00m [\n\u001B[1;32m--> 131\u001B[0m     token \u001B[38;5;28;01mfor\u001B[39;00m sent \u001B[38;5;129;01min\u001B[39;00m sentences \u001B[38;5;28;01mfor\u001B[39;00m token \u001B[38;5;129;01min\u001B[39;00m \u001B[43m_treebank_word_tokenizer\u001B[49m\u001B[38;5;241;43m.\u001B[39;49m\u001B[43mtokenize\u001B[49m\u001B[43m(\u001B[49m\u001B[43msent\u001B[49m\u001B[43m)\u001B[49m\n\u001B[0;32m    132\u001B[0m ]\n",
      "File \u001B[1;32mD:\\pycharm_projects\\wine\\venv\\lib\\site-packages\\nltk\\tokenize\\destructive.py:181\u001B[0m, in \u001B[0;36mNLTKWordTokenizer.tokenize\u001B[1;34m(self, text, convert_parentheses, return_str)\u001B[0m\n\u001B[0;32m    178\u001B[0m     text \u001B[38;5;241m=\u001B[39m regexp\u001B[38;5;241m.\u001B[39msub(substitution, text)\n\u001B[0;32m    180\u001B[0m \u001B[38;5;28;01mfor\u001B[39;00m regexp \u001B[38;5;129;01min\u001B[39;00m \u001B[38;5;28mself\u001B[39m\u001B[38;5;241m.\u001B[39mCONTRACTIONS2:\n\u001B[1;32m--> 181\u001B[0m     text \u001B[38;5;241m=\u001B[39m regexp\u001B[38;5;241m.\u001B[39msub(\u001B[38;5;124mr\u001B[39m\u001B[38;5;124m\"\u001B[39m\u001B[38;5;124m \u001B[39m\u001B[38;5;124m\\\u001B[39m\u001B[38;5;124m1 \u001B[39m\u001B[38;5;124m\\\u001B[39m\u001B[38;5;124m2 \u001B[39m\u001B[38;5;124m\"\u001B[39m, text)\n\u001B[0;32m    182\u001B[0m \u001B[38;5;28;01mfor\u001B[39;00m regexp \u001B[38;5;129;01min\u001B[39;00m \u001B[38;5;28mself\u001B[39m\u001B[38;5;241m.\u001B[39mCONTRACTIONS3:\n\u001B[0;32m    183\u001B[0m     text \u001B[38;5;241m=\u001B[39m regexp\u001B[38;5;241m.\u001B[39msub(\u001B[38;5;124mr\u001B[39m\u001B[38;5;124m\"\u001B[39m\u001B[38;5;124m \u001B[39m\u001B[38;5;124m\\\u001B[39m\u001B[38;5;124m1 \u001B[39m\u001B[38;5;124m\\\u001B[39m\u001B[38;5;124m2 \u001B[39m\u001B[38;5;124m\"\u001B[39m, text)\n",
      "\u001B[1;31mKeyboardInterrupt\u001B[0m: "
     ]
    }
   ],
   "source": [
    "df['description_clean'] = df['description'].apply(lambda x: x.lower())\n",
    "df['description_clean'] = df['description_clean'].apply(lambda x: remove_stopwords(x))\n",
    "df['description_clean'] = df['description_clean'].apply(lambda x: strip_punctuation(x))\n",
    "df['description_clean'] = df['description_clean'].apply(lambda x: word_tokenize(x))\n",
    "df['description_clean'] = df['description_clean'].apply(lambda x: [wnl.lemmatize(i) for i in x])\n",
    "df['description_clean'] = df['description_clean'].apply(lambda x: remove_short_tokens(x))"
   ],
   "metadata": {
    "collapsed": false,
    "ExecuteTime": {
     "end_time": "2023-09-09T18:03:25.778970700Z",
     "start_time": "2023-09-09T18:03:15.822229100Z"
    }
   },
   "id": "6a67c92c18213918"
  },
  {
   "cell_type": "code",
   "execution_count": 67,
   "outputs": [
    {
     "ename": "KeyError",
     "evalue": "143335",
     "output_type": "error",
     "traceback": [
      "\u001B[1;31m---------------------------------------------------------------------------\u001B[0m",
      "\u001B[1;31mValueError\u001B[0m                                Traceback (most recent call last)",
      "File \u001B[1;32mD:\\pycharm_projects\\wine\\venv\\lib\\site-packages\\pandas\\core\\indexes\\range.py:414\u001B[0m, in \u001B[0;36mRangeIndex.get_loc\u001B[1;34m(self, key)\u001B[0m\n\u001B[0;32m    413\u001B[0m \u001B[38;5;28;01mtry\u001B[39;00m:\n\u001B[1;32m--> 414\u001B[0m     \u001B[38;5;28;01mreturn\u001B[39;00m \u001B[38;5;28;43mself\u001B[39;49m\u001B[38;5;241;43m.\u001B[39;49m\u001B[43m_range\u001B[49m\u001B[38;5;241;43m.\u001B[39;49m\u001B[43mindex\u001B[49m\u001B[43m(\u001B[49m\u001B[43mnew_key\u001B[49m\u001B[43m)\u001B[49m\n\u001B[0;32m    415\u001B[0m \u001B[38;5;28;01mexcept\u001B[39;00m \u001B[38;5;167;01mValueError\u001B[39;00m \u001B[38;5;28;01mas\u001B[39;00m err:\n",
      "\u001B[1;31mValueError\u001B[0m: 143335 is not in range",
      "\nThe above exception was the direct cause of the following exception:\n",
      "\u001B[1;31mKeyError\u001B[0m                                  Traceback (most recent call last)",
      "Cell \u001B[1;32mIn[67], line 1\u001B[0m\n\u001B[1;32m----> 1\u001B[0m \u001B[43mdf\u001B[49m\u001B[43m[\u001B[49m\u001B[38;5;124;43m'\u001B[39;49m\u001B[38;5;124;43mdescription_clean\u001B[39;49m\u001B[38;5;124;43m'\u001B[39;49m\u001B[43m]\u001B[49m\u001B[43m[\u001B[49m\u001B[38;5;241;43m143335\u001B[39;49m\u001B[43m]\u001B[49m\n",
      "File \u001B[1;32mD:\\pycharm_projects\\wine\\venv\\lib\\site-packages\\pandas\\core\\series.py:1040\u001B[0m, in \u001B[0;36mSeries.__getitem__\u001B[1;34m(self, key)\u001B[0m\n\u001B[0;32m   1037\u001B[0m     \u001B[38;5;28;01mreturn\u001B[39;00m \u001B[38;5;28mself\u001B[39m\u001B[38;5;241m.\u001B[39m_values[key]\n\u001B[0;32m   1039\u001B[0m \u001B[38;5;28;01melif\u001B[39;00m key_is_scalar:\n\u001B[1;32m-> 1040\u001B[0m     \u001B[38;5;28;01mreturn\u001B[39;00m \u001B[38;5;28;43mself\u001B[39;49m\u001B[38;5;241;43m.\u001B[39;49m\u001B[43m_get_value\u001B[49m\u001B[43m(\u001B[49m\u001B[43mkey\u001B[49m\u001B[43m)\u001B[49m\n\u001B[0;32m   1042\u001B[0m \u001B[38;5;66;03m# Convert generator to list before going through hashable part\u001B[39;00m\n\u001B[0;32m   1043\u001B[0m \u001B[38;5;66;03m# (We will iterate through the generator there to check for slices)\u001B[39;00m\n\u001B[0;32m   1044\u001B[0m \u001B[38;5;28;01mif\u001B[39;00m is_iterator(key):\n",
      "File \u001B[1;32mD:\\pycharm_projects\\wine\\venv\\lib\\site-packages\\pandas\\core\\series.py:1156\u001B[0m, in \u001B[0;36mSeries._get_value\u001B[1;34m(self, label, takeable)\u001B[0m\n\u001B[0;32m   1153\u001B[0m     \u001B[38;5;28;01mreturn\u001B[39;00m \u001B[38;5;28mself\u001B[39m\u001B[38;5;241m.\u001B[39m_values[label]\n\u001B[0;32m   1155\u001B[0m \u001B[38;5;66;03m# Similar to Index.get_value, but we do not fall back to positional\u001B[39;00m\n\u001B[1;32m-> 1156\u001B[0m loc \u001B[38;5;241m=\u001B[39m \u001B[38;5;28;43mself\u001B[39;49m\u001B[38;5;241;43m.\u001B[39;49m\u001B[43mindex\u001B[49m\u001B[38;5;241;43m.\u001B[39;49m\u001B[43mget_loc\u001B[49m\u001B[43m(\u001B[49m\u001B[43mlabel\u001B[49m\u001B[43m)\u001B[49m\n\u001B[0;32m   1158\u001B[0m \u001B[38;5;28;01mif\u001B[39;00m is_integer(loc):\n\u001B[0;32m   1159\u001B[0m     \u001B[38;5;28;01mreturn\u001B[39;00m \u001B[38;5;28mself\u001B[39m\u001B[38;5;241m.\u001B[39m_values[loc]\n",
      "File \u001B[1;32mD:\\pycharm_projects\\wine\\venv\\lib\\site-packages\\pandas\\core\\indexes\\range.py:416\u001B[0m, in \u001B[0;36mRangeIndex.get_loc\u001B[1;34m(self, key)\u001B[0m\n\u001B[0;32m    414\u001B[0m         \u001B[38;5;28;01mreturn\u001B[39;00m \u001B[38;5;28mself\u001B[39m\u001B[38;5;241m.\u001B[39m_range\u001B[38;5;241m.\u001B[39mindex(new_key)\n\u001B[0;32m    415\u001B[0m     \u001B[38;5;28;01mexcept\u001B[39;00m \u001B[38;5;167;01mValueError\u001B[39;00m \u001B[38;5;28;01mas\u001B[39;00m err:\n\u001B[1;32m--> 416\u001B[0m         \u001B[38;5;28;01mraise\u001B[39;00m \u001B[38;5;167;01mKeyError\u001B[39;00m(key) \u001B[38;5;28;01mfrom\u001B[39;00m \u001B[38;5;21;01merr\u001B[39;00m\n\u001B[0;32m    417\u001B[0m \u001B[38;5;28;01mif\u001B[39;00m \u001B[38;5;28misinstance\u001B[39m(key, Hashable):\n\u001B[0;32m    418\u001B[0m     \u001B[38;5;28;01mraise\u001B[39;00m \u001B[38;5;167;01mKeyError\u001B[39;00m(key)\n",
      "\u001B[1;31mKeyError\u001B[0m: 143335"
     ]
    }
   ],
   "source": [
    "df['description_clean'][143335]"
   ],
   "metadata": {
    "collapsed": false,
    "ExecuteTime": {
     "end_time": "2023-09-09T18:00:57.375853500Z",
     "start_time": "2023-09-09T18:00:56.654874700Z"
    }
   },
   "id": "c2b465927881acb2"
  },
  {
   "cell_type": "code",
   "execution_count": 52,
   "outputs": [],
   "source": [
    "splitted_texts = df['description_clean'].tolist()\n",
    "#splitted_texts = text\n",
    "# preprocess_documents(text))"
   ],
   "metadata": {
    "collapsed": false,
    "ExecuteTime": {
     "end_time": "2023-09-09T14:27:04.195959Z",
     "start_time": "2023-09-09T14:27:04.174022500Z"
    }
   },
   "id": "fce5598abcaca673"
  },
  {
   "cell_type": "code",
   "execution_count": 53,
   "outputs": [],
   "source": [
    "idx = [str(i) for i in range(len(splitted_texts))]\n",
    "\n",
    "tagged_documents = []\n",
    "for i in range(len(splitted_texts)):\n",
    "    tagged_documents.append(TaggedDocument(splitted_texts[i], [idx[i]]))"
   ],
   "metadata": {
    "collapsed": false,
    "ExecuteTime": {
     "end_time": "2023-09-09T14:27:04.908952200Z",
     "start_time": "2023-09-09T14:27:04.198959200Z"
    }
   },
   "id": "c0fe8973a9a44d2e"
  },
  {
   "cell_type": "code",
   "execution_count": 54,
   "outputs": [
    {
     "data": {
      "text/plain": "TaggedDocument(words=['soft', 'supple', 'plum', 'envelope', 'oaky', 'structure', 'cabernet', 'supported', 'merlot', 'coffee', 'chocolate', 'complete', 'picture', 'finishing', 'strong', 'end', 'resulting', 'value', 'priced', 'wine', 'attractive', 'flavor', 'immediate', 'accessibility'], tags=['10'])"
     },
     "execution_count": 54,
     "metadata": {},
     "output_type": "execute_result"
    }
   ],
   "source": [
    "tagged_documents[10]"
   ],
   "metadata": {
    "collapsed": false,
    "ExecuteTime": {
     "end_time": "2023-09-09T14:27:04.920938100Z",
     "start_time": "2023-09-09T14:27:04.909937500Z"
    }
   },
   "id": "14d2fc0eed85d7bf"
  },
  {
   "cell_type": "code",
   "execution_count": 55,
   "outputs": [],
   "source": [
    "#model = Doc2Vec(tagged_documents, vector_size=100, window=5, min_count=20, workers=-1)\n",
    "#model.build_vocab(tagged_documents)\n",
    "\n",
    "def build_model(max_epochs, vec_size, alpha, tagged_documents):\n",
    "    model = Doc2Vec(vector_size=vec_size,\n",
    "                    alpha=alpha,\n",
    "                    min_alpha=0.00025,\n",
    "                    min_count=1,\n",
    "                    dm=1)\n",
    "\n",
    "    model.build_vocab(tagged_documents)\n",
    "\n",
    "    for epoch in range(max_epochs):\n",
    "        print(f\"Iteration {epoch}\")\n",
    "        model.train(tagged_documents,\n",
    "                    total_examples=model.corpus_count,\n",
    "                    epochs=model.epochs)\n",
    "\n",
    "        model.alpha -= 0.0002\n",
    "        model.min_alpha = model.alpha\n",
    "        \n",
    "    \n",
    "    return model"
   ],
   "metadata": {
    "collapsed": false,
    "ExecuteTime": {
     "end_time": "2023-09-09T14:27:04.969949800Z",
     "start_time": "2023-09-09T14:27:04.919937Z"
    }
   },
   "id": "ef499a37b982f49f"
  },
  {
   "cell_type": "code",
   "execution_count": 56,
   "outputs": [
    {
     "name": "stdout",
     "output_type": "stream",
     "text": [
      "Iteration 0\n"
     ]
    }
   ],
   "source": [
    "model = build_model(max_epochs=1, vec_size=50, alpha=0.025, tagged_documents=tagged_documents)"
   ],
   "metadata": {
    "collapsed": false,
    "ExecuteTime": {
     "end_time": "2023-09-09T14:28:34.028735300Z",
     "start_time": "2023-09-09T14:27:04.941936300Z"
    }
   },
   "id": "69ef7695bf371631"
  },
  {
   "cell_type": "code",
   "execution_count": 57,
   "outputs": [],
   "source": [
    "model.save('./models/' + (datetime.utcnow().strftime('%Y_%m_%d_%H_%M_%S')) + '_doc2vec.model')"
   ],
   "metadata": {
    "collapsed": false,
    "ExecuteTime": {
     "end_time": "2023-09-09T14:28:34.163221600Z",
     "start_time": "2023-09-09T14:28:34.030735700Z"
    }
   },
   "id": "c4e990266f197c67"
  },
  {
   "cell_type": "code",
   "execution_count": 58,
   "outputs": [],
   "source": [
    "# Create new sentence and vectorize it. \n",
    "new_sentence = \"Attractively ripe, this has fruity red-berry flavors along with acidity and soft tannins. This is ready to drink now.\"\n",
    "original = new_sentence\n",
    "#new_sentence_vectorized = model.infer_vector(new_sentence)"
   ],
   "metadata": {
    "collapsed": false,
    "ExecuteTime": {
     "end_time": "2023-09-09T14:28:34.169221400Z",
     "start_time": "2023-09-09T14:28:34.163221600Z"
    }
   },
   "id": "17710b11eeeb6e80"
  },
  {
   "cell_type": "code",
   "execution_count": 59,
   "outputs": [
    {
     "data": {
      "text/plain": "array([ 0.17593654,  0.06928904, -0.0407874 , -0.02585632,  0.09299903,\n        0.08303221, -0.02629865, -0.06440509,  0.22314161, -0.04408715,\n       -0.06187092,  0.16877143, -0.01137235,  0.06033728,  0.24866566,\n       -0.11874454, -0.14759423,  0.21945474, -0.09404378, -0.09669308,\n       -0.03852752, -0.03735104, -0.3406797 ,  0.23288187, -0.0580943 ,\n       -0.24986836,  0.10389578, -0.4059953 , -0.04941511, -0.14741573,\n        0.22339599,  0.03376621, -0.01145129,  0.07112709, -0.13794322,\n       -0.25795802, -0.04731727,  0.25738806,  0.01081435, -0.04122727,\n        0.21968582, -0.0420948 , -0.07491214, -0.04132482, -0.17815545,\n       -0.28923523, -0.03412611,  0.00053623,  0.13627923,  0.00887265],\n      dtype=float32)"
     },
     "execution_count": 59,
     "metadata": {},
     "output_type": "execute_result"
    }
   ],
   "source": [
    "new_sentence = new_sentence.lower()\n",
    "new_sentence = remove_stopwords(new_sentence)\n",
    "new_sentence = strip_punctuation(new_sentence)\n",
    "new_sentence = word_tokenize(new_sentence)\n",
    "new_sentence = [wnl.lemmatize(i) for i in new_sentence]\n",
    "new_sentence = remove_short_tokens(new_sentence)\n",
    "new_sentence_vectorized = model.infer_vector(new_sentence)\n",
    "new_sentence_vectorized"
   ],
   "metadata": {
    "collapsed": false,
    "ExecuteTime": {
     "end_time": "2023-09-09T14:28:34.196486200Z",
     "start_time": "2023-09-09T14:28:34.173221100Z"
    }
   },
   "id": "2a2c12c30c14aebc"
  },
  {
   "cell_type": "code",
   "execution_count": 60,
   "outputs": [],
   "source": [
    "# Calculate cosine similarity. \n",
    "similar_sentences = model.dv.most_similar(positive=[new_sentence_vectorized])"
   ],
   "metadata": {
    "collapsed": false,
    "ExecuteTime": {
     "end_time": "2023-09-09T14:28:34.221485900Z",
     "start_time": "2023-09-09T14:28:34.197486900Z"
    }
   },
   "id": "52c28ad6b2de757c"
  },
  {
   "cell_type": "code",
   "execution_count": 61,
   "outputs": [
    {
     "data": {
      "text/plain": "[('69488', 0.8108602166175842),\n ('19548', 0.7896836996078491),\n ('12068', 0.7812333703041077),\n ('27404', 0.7793558239936829),\n ('109314', 0.7768636345863342),\n ('68494', 0.7756578326225281),\n ('26807', 0.7743197679519653),\n ('32230', 0.7661463618278503),\n ('45901', 0.7648536562919617),\n ('109057', 0.7637451887130737)]"
     },
     "execution_count": 61,
     "metadata": {},
     "output_type": "execute_result"
    }
   ],
   "source": [
    "similar_sentences"
   ],
   "metadata": {
    "collapsed": false,
    "ExecuteTime": {
     "end_time": "2023-09-09T14:28:34.228485600Z",
     "start_time": "2023-09-09T14:28:34.222486Z"
    }
   },
   "id": "b9a8f39be5d256af"
  },
  {
   "cell_type": "code",
   "execution_count": 62,
   "outputs": [
    {
     "name": "stdout",
     "output_type": "stream",
     "text": [
      "Original:  Attractively ripe, this has fruity red-berry flavors along with acidity and soft tannins. This is ready to drink now.\n",
      "Simular: This wine is all bright cherry fruit with juicy acidity and a jammy character. It's delicious now, with its light tannins and bright raspberry aftertaste. Drink now.\n"
     ]
    }
   ],
   "source": [
    "print('Original: ', original)\n",
    "print('Simular:', df['description'][24997])"
   ],
   "metadata": {
    "collapsed": false,
    "ExecuteTime": {
     "end_time": "2023-09-09T14:28:34.242530900Z",
     "start_time": "2023-09-09T14:28:34.229486100Z"
    }
   },
   "id": "6117824627b6e783"
  },
  {
   "cell_type": "code",
   "execution_count": 63,
   "outputs": [
    {
     "data": {
      "text/plain": "[('blackberry', 0.803281843662262),\n ('raspberry', 0.7911970615386963),\n ('strawberry', 0.7140820622444153),\n ('cherry', 0.6910226941108704),\n ('blueberry', 0.6895474791526794),\n ('licorice', 0.6871267557144165),\n ('black', 0.6633455753326416),\n ('plum', 0.6577023863792419),\n ('chewy', 0.6408059597015381),\n ('cranberry', 0.6339317560195923)]"
     },
     "execution_count": 63,
     "metadata": {},
     "output_type": "execute_result"
    }
   ],
   "source": [
    "model.wv.similar_by_word('berry')"
   ],
   "metadata": {
    "collapsed": false,
    "ExecuteTime": {
     "end_time": "2023-09-09T14:28:34.265530800Z",
     "start_time": "2023-09-09T14:28:34.244532500Z"
    }
   },
   "id": "e2e7570187e0e7ef"
  },
  {
   "cell_type": "code",
   "execution_count": 64,
   "outputs": [
    {
     "data": {
      "text/plain": "[('attractive', 0.7684898376464844),\n ('fruitiness', 0.7665814757347107),\n ('ripe', 0.7274746894836426),\n ('rounded', 0.7236625552177429),\n ('juicy', 0.7044587135314941),\n ('perfumed', 0.6998727321624756),\n ('flavored', 0.6990644931793213),\n ('fruit', 0.6893908977508545),\n ('generous', 0.6699721217155457),\n ('crisp', 0.6698552966117859)]"
     },
     "execution_count": 64,
     "metadata": {},
     "output_type": "execute_result"
    }
   ],
   "source": [
    "model.wv.similar_by_word('fruity')"
   ],
   "metadata": {
    "collapsed": false,
    "ExecuteTime": {
     "end_time": "2023-09-09T14:28:34.278257700Z",
     "start_time": "2023-09-09T14:28:34.266530300Z"
    }
   },
   "id": "b692a09a985fc93c"
  },
  {
   "cell_type": "code",
   "execution_count": 65,
   "outputs": [
    {
     "data": {
      "text/plain": "[('acid', 0.7812641859054565),\n ('flavor', 0.6918242573738098),\n ('fruitiness', 0.6862507462501526),\n ('richness', 0.6733599305152893),\n ('tangy', 0.6718690991401672),\n ('character', 0.6660929322242737),\n ('juicy', 0.6458977460861206),\n ('aftertaste', 0.6450532078742981),\n ('minerality', 0.6412492394447327),\n ('ripe', 0.6358282566070557)]"
     },
     "execution_count": 65,
     "metadata": {},
     "output_type": "execute_result"
    }
   ],
   "source": [
    "model.wv.similar_by_word('acidity')"
   ],
   "metadata": {
    "collapsed": false,
    "ExecuteTime": {
     "end_time": "2023-09-09T14:28:34.312255600Z",
     "start_time": "2023-09-09T14:28:34.279257800Z"
    }
   },
   "id": "28f8cdb595b95a65"
  },
  {
   "cell_type": "code",
   "execution_count": 66,
   "outputs": [
    {
     "data": {
      "text/plain": "[('rich', 0.7972066402435303),\n ('ripe', 0.7590669393539429),\n ('great', 0.7228766083717346),\n ('attractive', 0.7223926782608032),\n ('ready', 0.7017973065376282),\n ('fine', 0.6962223052978516),\n ('complex', 0.69059157371521),\n ('luscious', 0.6774658560752869),\n ('juicy', 0.6754449009895325),\n ('generous', 0.6717314124107361)]"
     },
     "execution_count": 66,
     "metadata": {},
     "output_type": "execute_result"
    }
   ],
   "source": [
    "model.wv.similar_by_word('delicious')"
   ],
   "metadata": {
    "collapsed": false,
    "ExecuteTime": {
     "end_time": "2023-09-09T14:28:34.313256500Z",
     "start_time": "2023-09-09T14:28:34.288257200Z"
    }
   },
   "id": "163a2df33c97fbae"
  },
  {
   "cell_type": "code",
   "execution_count": 109,
   "outputs": [
    {
     "data": {
      "text/plain": "         index   country                                        description  \\\n0            0     Italy  Aromas include tropical fruit, broom, brimston...   \n1            1  Portugal  This is ripe and fruity, a wine that is smooth...   \n2            2        US  Tart and snappy, the flavors of lime flesh and...   \n3            3        US  Pineapple rind, lemon pith and orange blossom ...   \n4            4        US  Much like the regular bottling from 2012, this...   \n...        ...       ...                                                ...   \n119950  129966   Germany  Notes of honeysuckle and cantaloupe sweeten th...   \n119951  129967        US  Citation is given as much as a decade of bottl...   \n119952  129968    France  Well-drained gravel soil gives this wine its c...   \n119953  129969    France  A dry style of Pinot Gris, this is crisp with ...   \n119954  129970    France  Big, rich and off-dry, this is powered by inte...   \n\n                                   designation  points  price  \\\n0                                 Vulkà Bianco      87    NaN   \n1                                     Avidagos      87   15.0   \n2                                          NaN      87   14.0   \n3                         Reserve Late Harvest      87   13.0   \n4           Vintner's Reserve Wild Child Block      87   65.0   \n...                                        ...     ...    ...   \n119950  Brauneberger Juffer-Sonnenuhr Spätlese      90   28.0   \n119951                                     NaN      90   75.0   \n119952                                   Kritt      90   30.0   \n119953                                     NaN      90   32.0   \n119954           Lieu-dit Harth Cuvée Caroline      90   21.0   \n\n                 province             region_1           region_2  \\\n0       Sicily & Sardinia                 Etna                NaN   \n1                   Douro                  NaN                NaN   \n2                  Oregon    Willamette Valley  Willamette Valley   \n3                Michigan  Lake Michigan Shore                NaN   \n4                  Oregon    Willamette Valley  Willamette Valley   \n...                   ...                  ...                ...   \n119950              Mosel                  NaN                NaN   \n119951             Oregon               Oregon       Oregon Other   \n119952             Alsace               Alsace                NaN   \n119953             Alsace               Alsace                NaN   \n119954             Alsace               Alsace                NaN   \n\n               taster_name taster_twitter_handle  \\\n0            Kerin O’Keefe          @kerinokeefe   \n1               Roger Voss            @vossroger   \n2             Paul Gregutt           @paulgwine    \n3       Alexander Peartree                   NaN   \n4             Paul Gregutt           @paulgwine    \n...                    ...                   ...   \n119950  Anna Lee C. Iijima                   NaN   \n119951        Paul Gregutt           @paulgwine    \n119952          Roger Voss            @vossroger   \n119953          Roger Voss            @vossroger   \n119954          Roger Voss            @vossroger   \n\n                                                    title         variety  \\\n0                       Nicosia 2013 Vulkà Bianco  (Etna)     White Blend   \n1           Quinta dos Avidagos 2011 Avidagos Red (Douro)  Portuguese Red   \n2           Rainstorm 2013 Pinot Gris (Willamette Valley)      Pinot Gris   \n3       St. Julian 2013 Reserve Late Harvest Riesling ...        Riesling   \n4       Sweet Cheeks 2012 Vintner's Reserve Wild Child...      Pinot Noir   \n...                                                   ...             ...   \n119950  Dr. H. Thanisch (Erben Müller-Burggraef) 2013 ...        Riesling   \n119951                  Citation 2004 Pinot Noir (Oregon)      Pinot Noir   \n119952  Domaine Gresser 2013 Kritt Gewurztraminer (Als...  Gewürztraminer   \n119953      Domaine Marcel Deiss 2012 Pinot Gris (Alsace)      Pinot Gris   \n119954  Domaine Schoffit 2012 Lieu-dit Harth Cuvée Car...  Gewürztraminer   \n\n                                          winery  \n0                                        Nicosia  \n1                            Quinta dos Avidagos  \n2                                      Rainstorm  \n3                                     St. Julian  \n4                                   Sweet Cheeks  \n...                                          ...  \n119950  Dr. H. Thanisch (Erben Müller-Burggraef)  \n119951                                  Citation  \n119952                           Domaine Gresser  \n119953                      Domaine Marcel Deiss  \n119954                          Domaine Schoffit  \n\n[119955 rows x 14 columns]",
      "text/html": "<div>\n<style scoped>\n    .dataframe tbody tr th:only-of-type {\n        vertical-align: middle;\n    }\n\n    .dataframe tbody tr th {\n        vertical-align: top;\n    }\n\n    .dataframe thead th {\n        text-align: right;\n    }\n</style>\n<table border=\"1\" class=\"dataframe\">\n  <thead>\n    <tr style=\"text-align: right;\">\n      <th></th>\n      <th>index</th>\n      <th>country</th>\n      <th>description</th>\n      <th>designation</th>\n      <th>points</th>\n      <th>price</th>\n      <th>province</th>\n      <th>region_1</th>\n      <th>region_2</th>\n      <th>taster_name</th>\n      <th>taster_twitter_handle</th>\n      <th>title</th>\n      <th>variety</th>\n      <th>winery</th>\n    </tr>\n  </thead>\n  <tbody>\n    <tr>\n      <th>0</th>\n      <td>0</td>\n      <td>Italy</td>\n      <td>Aromas include tropical fruit, broom, brimston...</td>\n      <td>Vulkà Bianco</td>\n      <td>87</td>\n      <td>NaN</td>\n      <td>Sicily &amp; Sardinia</td>\n      <td>Etna</td>\n      <td>NaN</td>\n      <td>Kerin O’Keefe</td>\n      <td>@kerinokeefe</td>\n      <td>Nicosia 2013 Vulkà Bianco  (Etna)</td>\n      <td>White Blend</td>\n      <td>Nicosia</td>\n    </tr>\n    <tr>\n      <th>1</th>\n      <td>1</td>\n      <td>Portugal</td>\n      <td>This is ripe and fruity, a wine that is smooth...</td>\n      <td>Avidagos</td>\n      <td>87</td>\n      <td>15.0</td>\n      <td>Douro</td>\n      <td>NaN</td>\n      <td>NaN</td>\n      <td>Roger Voss</td>\n      <td>@vossroger</td>\n      <td>Quinta dos Avidagos 2011 Avidagos Red (Douro)</td>\n      <td>Portuguese Red</td>\n      <td>Quinta dos Avidagos</td>\n    </tr>\n    <tr>\n      <th>2</th>\n      <td>2</td>\n      <td>US</td>\n      <td>Tart and snappy, the flavors of lime flesh and...</td>\n      <td>NaN</td>\n      <td>87</td>\n      <td>14.0</td>\n      <td>Oregon</td>\n      <td>Willamette Valley</td>\n      <td>Willamette Valley</td>\n      <td>Paul Gregutt</td>\n      <td>@paulgwine</td>\n      <td>Rainstorm 2013 Pinot Gris (Willamette Valley)</td>\n      <td>Pinot Gris</td>\n      <td>Rainstorm</td>\n    </tr>\n    <tr>\n      <th>3</th>\n      <td>3</td>\n      <td>US</td>\n      <td>Pineapple rind, lemon pith and orange blossom ...</td>\n      <td>Reserve Late Harvest</td>\n      <td>87</td>\n      <td>13.0</td>\n      <td>Michigan</td>\n      <td>Lake Michigan Shore</td>\n      <td>NaN</td>\n      <td>Alexander Peartree</td>\n      <td>NaN</td>\n      <td>St. Julian 2013 Reserve Late Harvest Riesling ...</td>\n      <td>Riesling</td>\n      <td>St. Julian</td>\n    </tr>\n    <tr>\n      <th>4</th>\n      <td>4</td>\n      <td>US</td>\n      <td>Much like the regular bottling from 2012, this...</td>\n      <td>Vintner's Reserve Wild Child Block</td>\n      <td>87</td>\n      <td>65.0</td>\n      <td>Oregon</td>\n      <td>Willamette Valley</td>\n      <td>Willamette Valley</td>\n      <td>Paul Gregutt</td>\n      <td>@paulgwine</td>\n      <td>Sweet Cheeks 2012 Vintner's Reserve Wild Child...</td>\n      <td>Pinot Noir</td>\n      <td>Sweet Cheeks</td>\n    </tr>\n    <tr>\n      <th>...</th>\n      <td>...</td>\n      <td>...</td>\n      <td>...</td>\n      <td>...</td>\n      <td>...</td>\n      <td>...</td>\n      <td>...</td>\n      <td>...</td>\n      <td>...</td>\n      <td>...</td>\n      <td>...</td>\n      <td>...</td>\n      <td>...</td>\n      <td>...</td>\n    </tr>\n    <tr>\n      <th>119950</th>\n      <td>129966</td>\n      <td>Germany</td>\n      <td>Notes of honeysuckle and cantaloupe sweeten th...</td>\n      <td>Brauneberger Juffer-Sonnenuhr Spätlese</td>\n      <td>90</td>\n      <td>28.0</td>\n      <td>Mosel</td>\n      <td>NaN</td>\n      <td>NaN</td>\n      <td>Anna Lee C. Iijima</td>\n      <td>NaN</td>\n      <td>Dr. H. Thanisch (Erben Müller-Burggraef) 2013 ...</td>\n      <td>Riesling</td>\n      <td>Dr. H. Thanisch (Erben Müller-Burggraef)</td>\n    </tr>\n    <tr>\n      <th>119951</th>\n      <td>129967</td>\n      <td>US</td>\n      <td>Citation is given as much as a decade of bottl...</td>\n      <td>NaN</td>\n      <td>90</td>\n      <td>75.0</td>\n      <td>Oregon</td>\n      <td>Oregon</td>\n      <td>Oregon Other</td>\n      <td>Paul Gregutt</td>\n      <td>@paulgwine</td>\n      <td>Citation 2004 Pinot Noir (Oregon)</td>\n      <td>Pinot Noir</td>\n      <td>Citation</td>\n    </tr>\n    <tr>\n      <th>119952</th>\n      <td>129968</td>\n      <td>France</td>\n      <td>Well-drained gravel soil gives this wine its c...</td>\n      <td>Kritt</td>\n      <td>90</td>\n      <td>30.0</td>\n      <td>Alsace</td>\n      <td>Alsace</td>\n      <td>NaN</td>\n      <td>Roger Voss</td>\n      <td>@vossroger</td>\n      <td>Domaine Gresser 2013 Kritt Gewurztraminer (Als...</td>\n      <td>Gewürztraminer</td>\n      <td>Domaine Gresser</td>\n    </tr>\n    <tr>\n      <th>119953</th>\n      <td>129969</td>\n      <td>France</td>\n      <td>A dry style of Pinot Gris, this is crisp with ...</td>\n      <td>NaN</td>\n      <td>90</td>\n      <td>32.0</td>\n      <td>Alsace</td>\n      <td>Alsace</td>\n      <td>NaN</td>\n      <td>Roger Voss</td>\n      <td>@vossroger</td>\n      <td>Domaine Marcel Deiss 2012 Pinot Gris (Alsace)</td>\n      <td>Pinot Gris</td>\n      <td>Domaine Marcel Deiss</td>\n    </tr>\n    <tr>\n      <th>119954</th>\n      <td>129970</td>\n      <td>France</td>\n      <td>Big, rich and off-dry, this is powered by inte...</td>\n      <td>Lieu-dit Harth Cuvée Caroline</td>\n      <td>90</td>\n      <td>21.0</td>\n      <td>Alsace</td>\n      <td>Alsace</td>\n      <td>NaN</td>\n      <td>Roger Voss</td>\n      <td>@vossroger</td>\n      <td>Domaine Schoffit 2012 Lieu-dit Harth Cuvée Car...</td>\n      <td>Gewürztraminer</td>\n      <td>Domaine Schoffit</td>\n    </tr>\n  </tbody>\n</table>\n<p>119955 rows × 14 columns</p>\n</div>"
     },
     "execution_count": 109,
     "metadata": {},
     "output_type": "execute_result"
    }
   ],
   "source": [
    "df = pd.read_csv('./data/cleaned_wine_reviews.csv')\n",
    "df"
   ],
   "metadata": {
    "collapsed": false,
    "ExecuteTime": {
     "end_time": "2023-09-09T19:06:33.696345300Z",
     "start_time": "2023-09-09T19:06:32.786372900Z"
    }
   },
   "id": "97199e83606be48f"
  },
  {
   "cell_type": "code",
   "execution_count": null,
   "outputs": [],
   "source": [],
   "metadata": {
    "collapsed": false
   },
   "id": "cba41baffe9ccc59"
  }
 ],
 "metadata": {
  "kernelspec": {
   "display_name": "Python 3",
   "language": "python",
   "name": "python3"
  },
  "language_info": {
   "codemirror_mode": {
    "name": "ipython",
    "version": 2
   },
   "file_extension": ".py",
   "mimetype": "text/x-python",
   "name": "python",
   "nbconvert_exporter": "python",
   "pygments_lexer": "ipython2",
   "version": "2.7.6"
  }
 },
 "nbformat": 4,
 "nbformat_minor": 5
}
