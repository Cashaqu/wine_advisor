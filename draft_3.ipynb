{
 "cells": [
  {
   "cell_type": "code",
   "execution_count": 46,
   "outputs": [],
   "source": [
    "from gensim.parsing.preprocessing import preprocess_documents, remove_stopwords, remove_short_tokens\n",
    "from gensim.parsing.preprocessing import strip_punctuation\n",
    "from gensim.models.doc2vec import Doc2Vec, TaggedDocument\n",
    "\n",
    "from nltk.tokenize import word_tokenize\n",
    "from nltk.stem import WordNetLemmatizer\n",
    "wnl = WordNetLemmatizer()\n",
    "from datetime import datetime\n",
    "import pandas as pd"
   ],
   "metadata": {
    "collapsed": false,
    "ExecuteTime": {
     "end_time": "2023-09-09T14:26:26.819679800Z",
     "start_time": "2023-09-09T14:26:26.738682400Z"
    }
   },
   "id": "fa7d05600a948148"
  },
  {
   "cell_type": "code",
   "execution_count": 47,
   "outputs": [],
   "source": [
    "df = pd.read_csv('./data/wine_reviews.csv')"
   ],
   "metadata": {
    "collapsed": false,
    "ExecuteTime": {
     "end_time": "2023-09-09T14:26:27.925645800Z",
     "start_time": "2023-09-09T14:26:26.744692300Z"
    }
   },
   "id": "842c373db8393526"
  },
  {
   "cell_type": "code",
   "execution_count": 48,
   "outputs": [
    {
     "data": {
      "text/plain": "'Soft, supple plum envelopes an oaky structure in this Cabernet, supported by 15% Merlot. Coffee and chocolate complete the picture, finishing strong at the end, resulting in a value-priced wine of attractive flavor and immediate accessibility.'"
     },
     "execution_count": 48,
     "metadata": {},
     "output_type": "execute_result"
    }
   ],
   "source": [
    "df['description'][10]"
   ],
   "metadata": {
    "collapsed": false,
    "ExecuteTime": {
     "end_time": "2023-09-09T14:26:27.935647400Z",
     "start_time": "2023-09-09T14:26:27.929646Z"
    }
   },
   "id": "4f600fe0b256ac1f"
  },
  {
   "cell_type": "code",
   "execution_count": 49,
   "outputs": [],
   "source": [
    "df['description_clean'] = df['description'].apply(lambda x: x.lower())\n",
    "df['description_clean'] = df['description_clean'].apply(lambda x: remove_stopwords(x))\n",
    "df['description_clean'] = df['description_clean'].apply(lambda x: strip_punctuation(x))\n",
    "df['description_clean'] = df['description_clean'].apply(lambda x: word_tokenize(x))\n",
    "df['description_clean'] = df['description_clean'].apply(lambda x: [wnl.lemmatize(i) for i in x])\n",
    "df['description_clean'] = df['description_clean'].apply(lambda x: remove_short_tokens(x))"
   ],
   "metadata": {
    "collapsed": false,
    "ExecuteTime": {
     "end_time": "2023-09-09T14:27:04.138662900Z",
     "start_time": "2023-09-09T14:26:27.934646100Z"
    }
   },
   "id": "6a67c92c18213918"
  },
  {
   "cell_type": "code",
   "execution_count": 51,
   "outputs": [
    {
     "data": {
      "text/plain": "['soft',\n 'supple',\n 'plum',\n 'envelope',\n 'oaky',\n 'structure',\n 'cabernet',\n 'supported',\n 'merlot',\n 'coffee',\n 'chocolate',\n 'complete',\n 'picture',\n 'finishing',\n 'strong',\n 'end',\n 'resulting',\n 'value',\n 'priced',\n 'wine',\n 'attractive',\n 'flavor',\n 'immediate',\n 'accessibility']"
     },
     "execution_count": 51,
     "metadata": {},
     "output_type": "execute_result"
    }
   ],
   "source": [
    "df['description_clean'][10]"
   ],
   "metadata": {
    "collapsed": false,
    "ExecuteTime": {
     "end_time": "2023-09-09T14:27:04.177022Z",
     "start_time": "2023-09-09T14:27:04.151662700Z"
    }
   },
   "id": "c2b465927881acb2"
  },
  {
   "cell_type": "code",
   "execution_count": 52,
   "outputs": [],
   "source": [
    "splitted_texts = df['description_clean'].tolist()\n",
    "#splitted_texts = text\n",
    "# preprocess_documents(text))"
   ],
   "metadata": {
    "collapsed": false,
    "ExecuteTime": {
     "end_time": "2023-09-09T14:27:04.195959Z",
     "start_time": "2023-09-09T14:27:04.174022500Z"
    }
   },
   "id": "fce5598abcaca673"
  },
  {
   "cell_type": "code",
   "execution_count": 53,
   "outputs": [],
   "source": [
    "idx = [str(i) for i in range(len(splitted_texts))]\n",
    "\n",
    "tagged_documents = []\n",
    "for i in range(len(splitted_texts)):\n",
    "    tagged_documents.append(TaggedDocument(splitted_texts[i], [idx[i]]))"
   ],
   "metadata": {
    "collapsed": false,
    "ExecuteTime": {
     "end_time": "2023-09-09T14:27:04.908952200Z",
     "start_time": "2023-09-09T14:27:04.198959200Z"
    }
   },
   "id": "c0fe8973a9a44d2e"
  },
  {
   "cell_type": "code",
   "execution_count": 54,
   "outputs": [
    {
     "data": {
      "text/plain": "TaggedDocument(words=['soft', 'supple', 'plum', 'envelope', 'oaky', 'structure', 'cabernet', 'supported', 'merlot', 'coffee', 'chocolate', 'complete', 'picture', 'finishing', 'strong', 'end', 'resulting', 'value', 'priced', 'wine', 'attractive', 'flavor', 'immediate', 'accessibility'], tags=['10'])"
     },
     "execution_count": 54,
     "metadata": {},
     "output_type": "execute_result"
    }
   ],
   "source": [
    "tagged_documents[10]"
   ],
   "metadata": {
    "collapsed": false,
    "ExecuteTime": {
     "end_time": "2023-09-09T14:27:04.920938100Z",
     "start_time": "2023-09-09T14:27:04.909937500Z"
    }
   },
   "id": "14d2fc0eed85d7bf"
  },
  {
   "cell_type": "code",
   "execution_count": 55,
   "outputs": [],
   "source": [
    "#model = Doc2Vec(tagged_documents, vector_size=100, window=5, min_count=20, workers=-1)\n",
    "#model.build_vocab(tagged_documents)\n",
    "\n",
    "def build_model(max_epochs, vec_size, alpha, tagged_documents):\n",
    "    model = Doc2Vec(vector_size=vec_size,\n",
    "                    alpha=alpha,\n",
    "                    min_alpha=0.00025,\n",
    "                    min_count=1,\n",
    "                    dm=1)\n",
    "\n",
    "    model.build_vocab(tagged_documents)\n",
    "\n",
    "    for epoch in range(max_epochs):\n",
    "        print(f\"Iteration {epoch}\")\n",
    "        model.train(tagged_documents,\n",
    "                    total_examples=model.corpus_count,\n",
    "                    epochs=model.epochs)\n",
    "\n",
    "        model.alpha -= 0.0002\n",
    "        model.min_alpha = model.alpha\n",
    "        \n",
    "    \n",
    "    return model"
   ],
   "metadata": {
    "collapsed": false,
    "ExecuteTime": {
     "end_time": "2023-09-09T14:27:04.969949800Z",
     "start_time": "2023-09-09T14:27:04.919937Z"
    }
   },
   "id": "ef499a37b982f49f"
  },
  {
   "cell_type": "code",
   "execution_count": 56,
   "outputs": [
    {
     "name": "stdout",
     "output_type": "stream",
     "text": [
      "Iteration 0\n"
     ]
    }
   ],
   "source": [
    "model = build_model(max_epochs=1, vec_size=50, alpha=0.025, tagged_documents=tagged_documents)"
   ],
   "metadata": {
    "collapsed": false,
    "ExecuteTime": {
     "end_time": "2023-09-09T14:28:34.028735300Z",
     "start_time": "2023-09-09T14:27:04.941936300Z"
    }
   },
   "id": "69ef7695bf371631"
  },
  {
   "cell_type": "code",
   "execution_count": 57,
   "outputs": [],
   "source": [
    "model.save('./models/' + (datetime.utcnow().strftime('%Y_%m_%d_%H_%M_%S')) + '_doc2vec.model')"
   ],
   "metadata": {
    "collapsed": false,
    "ExecuteTime": {
     "end_time": "2023-09-09T14:28:34.163221600Z",
     "start_time": "2023-09-09T14:28:34.030735700Z"
    }
   },
   "id": "c4e990266f197c67"
  },
  {
   "cell_type": "code",
   "execution_count": 58,
   "outputs": [],
   "source": [
    "# Create new sentence and vectorize it. \n",
    "new_sentence = \"Attractively ripe, this has fruity red-berry flavors along with acidity and soft tannins. This is ready to drink now.\"\n",
    "original = new_sentence\n",
    "#new_sentence_vectorized = model.infer_vector(new_sentence)"
   ],
   "metadata": {
    "collapsed": false,
    "ExecuteTime": {
     "end_time": "2023-09-09T14:28:34.169221400Z",
     "start_time": "2023-09-09T14:28:34.163221600Z"
    }
   },
   "id": "17710b11eeeb6e80"
  },
  {
   "cell_type": "code",
   "execution_count": 59,
   "outputs": [
    {
     "data": {
      "text/plain": "array([ 0.17593654,  0.06928904, -0.0407874 , -0.02585632,  0.09299903,\n        0.08303221, -0.02629865, -0.06440509,  0.22314161, -0.04408715,\n       -0.06187092,  0.16877143, -0.01137235,  0.06033728,  0.24866566,\n       -0.11874454, -0.14759423,  0.21945474, -0.09404378, -0.09669308,\n       -0.03852752, -0.03735104, -0.3406797 ,  0.23288187, -0.0580943 ,\n       -0.24986836,  0.10389578, -0.4059953 , -0.04941511, -0.14741573,\n        0.22339599,  0.03376621, -0.01145129,  0.07112709, -0.13794322,\n       -0.25795802, -0.04731727,  0.25738806,  0.01081435, -0.04122727,\n        0.21968582, -0.0420948 , -0.07491214, -0.04132482, -0.17815545,\n       -0.28923523, -0.03412611,  0.00053623,  0.13627923,  0.00887265],\n      dtype=float32)"
     },
     "execution_count": 59,
     "metadata": {},
     "output_type": "execute_result"
    }
   ],
   "source": [
    "new_sentence = new_sentence.lower()\n",
    "new_sentence = remove_stopwords(new_sentence)\n",
    "new_sentence = strip_punctuation(new_sentence)\n",
    "new_sentence = word_tokenize(new_sentence)\n",
    "new_sentence = [wnl.lemmatize(i) for i in new_sentence]\n",
    "new_sentence = remove_short_tokens(new_sentence)\n",
    "new_sentence_vectorized = model.infer_vector(new_sentence)\n",
    "new_sentence_vectorized"
   ],
   "metadata": {
    "collapsed": false,
    "ExecuteTime": {
     "end_time": "2023-09-09T14:28:34.196486200Z",
     "start_time": "2023-09-09T14:28:34.173221100Z"
    }
   },
   "id": "2a2c12c30c14aebc"
  },
  {
   "cell_type": "code",
   "execution_count": 60,
   "outputs": [],
   "source": [
    "# Calculate cosine similarity. \n",
    "similar_sentences = model.dv.most_similar(positive=[new_sentence_vectorized])"
   ],
   "metadata": {
    "collapsed": false,
    "ExecuteTime": {
     "end_time": "2023-09-09T14:28:34.221485900Z",
     "start_time": "2023-09-09T14:28:34.197486900Z"
    }
   },
   "id": "52c28ad6b2de757c"
  },
  {
   "cell_type": "code",
   "execution_count": 61,
   "outputs": [
    {
     "data": {
      "text/plain": "[('69488', 0.8108602166175842),\n ('19548', 0.7896836996078491),\n ('12068', 0.7812333703041077),\n ('27404', 0.7793558239936829),\n ('109314', 0.7768636345863342),\n ('68494', 0.7756578326225281),\n ('26807', 0.7743197679519653),\n ('32230', 0.7661463618278503),\n ('45901', 0.7648536562919617),\n ('109057', 0.7637451887130737)]"
     },
     "execution_count": 61,
     "metadata": {},
     "output_type": "execute_result"
    }
   ],
   "source": [
    "similar_sentences"
   ],
   "metadata": {
    "collapsed": false,
    "ExecuteTime": {
     "end_time": "2023-09-09T14:28:34.228485600Z",
     "start_time": "2023-09-09T14:28:34.222486Z"
    }
   },
   "id": "b9a8f39be5d256af"
  },
  {
   "cell_type": "code",
   "execution_count": 62,
   "outputs": [
    {
     "name": "stdout",
     "output_type": "stream",
     "text": [
      "Original:  Attractively ripe, this has fruity red-berry flavors along with acidity and soft tannins. This is ready to drink now.\n",
      "Simular: This wine is all bright cherry fruit with juicy acidity and a jammy character. It's delicious now, with its light tannins and bright raspberry aftertaste. Drink now.\n"
     ]
    }
   ],
   "source": [
    "print('Original: ', original)\n",
    "print('Simular:', df['description'][24997])"
   ],
   "metadata": {
    "collapsed": false,
    "ExecuteTime": {
     "end_time": "2023-09-09T14:28:34.242530900Z",
     "start_time": "2023-09-09T14:28:34.229486100Z"
    }
   },
   "id": "6117824627b6e783"
  },
  {
   "cell_type": "code",
   "execution_count": 63,
   "outputs": [
    {
     "data": {
      "text/plain": "[('blackberry', 0.803281843662262),\n ('raspberry', 0.7911970615386963),\n ('strawberry', 0.7140820622444153),\n ('cherry', 0.6910226941108704),\n ('blueberry', 0.6895474791526794),\n ('licorice', 0.6871267557144165),\n ('black', 0.6633455753326416),\n ('plum', 0.6577023863792419),\n ('chewy', 0.6408059597015381),\n ('cranberry', 0.6339317560195923)]"
     },
     "execution_count": 63,
     "metadata": {},
     "output_type": "execute_result"
    }
   ],
   "source": [
    "model.wv.similar_by_word('berry')"
   ],
   "metadata": {
    "collapsed": false,
    "ExecuteTime": {
     "end_time": "2023-09-09T14:28:34.265530800Z",
     "start_time": "2023-09-09T14:28:34.244532500Z"
    }
   },
   "id": "e2e7570187e0e7ef"
  },
  {
   "cell_type": "code",
   "execution_count": 64,
   "outputs": [
    {
     "data": {
      "text/plain": "[('attractive', 0.7684898376464844),\n ('fruitiness', 0.7665814757347107),\n ('ripe', 0.7274746894836426),\n ('rounded', 0.7236625552177429),\n ('juicy', 0.7044587135314941),\n ('perfumed', 0.6998727321624756),\n ('flavored', 0.6990644931793213),\n ('fruit', 0.6893908977508545),\n ('generous', 0.6699721217155457),\n ('crisp', 0.6698552966117859)]"
     },
     "execution_count": 64,
     "metadata": {},
     "output_type": "execute_result"
    }
   ],
   "source": [
    "model.wv.similar_by_word('fruity')"
   ],
   "metadata": {
    "collapsed": false,
    "ExecuteTime": {
     "end_time": "2023-09-09T14:28:34.278257700Z",
     "start_time": "2023-09-09T14:28:34.266530300Z"
    }
   },
   "id": "b692a09a985fc93c"
  },
  {
   "cell_type": "code",
   "execution_count": 65,
   "outputs": [
    {
     "data": {
      "text/plain": "[('acid', 0.7812641859054565),\n ('flavor', 0.6918242573738098),\n ('fruitiness', 0.6862507462501526),\n ('richness', 0.6733599305152893),\n ('tangy', 0.6718690991401672),\n ('character', 0.6660929322242737),\n ('juicy', 0.6458977460861206),\n ('aftertaste', 0.6450532078742981),\n ('minerality', 0.6412492394447327),\n ('ripe', 0.6358282566070557)]"
     },
     "execution_count": 65,
     "metadata": {},
     "output_type": "execute_result"
    }
   ],
   "source": [
    "model.wv.similar_by_word('acidity')"
   ],
   "metadata": {
    "collapsed": false,
    "ExecuteTime": {
     "end_time": "2023-09-09T14:28:34.312255600Z",
     "start_time": "2023-09-09T14:28:34.279257800Z"
    }
   },
   "id": "28f8cdb595b95a65"
  },
  {
   "cell_type": "code",
   "execution_count": 66,
   "outputs": [
    {
     "data": {
      "text/plain": "[('rich', 0.7972066402435303),\n ('ripe', 0.7590669393539429),\n ('great', 0.7228766083717346),\n ('attractive', 0.7223926782608032),\n ('ready', 0.7017973065376282),\n ('fine', 0.6962223052978516),\n ('complex', 0.69059157371521),\n ('luscious', 0.6774658560752869),\n ('juicy', 0.6754449009895325),\n ('generous', 0.6717314124107361)]"
     },
     "execution_count": 66,
     "metadata": {},
     "output_type": "execute_result"
    }
   ],
   "source": [
    "model.wv.similar_by_word('delicious')"
   ],
   "metadata": {
    "collapsed": false,
    "ExecuteTime": {
     "end_time": "2023-09-09T14:28:34.313256500Z",
     "start_time": "2023-09-09T14:28:34.288257200Z"
    }
   },
   "id": "163a2df33c97fbae"
  },
  {
   "cell_type": "code",
   "execution_count": 66,
   "outputs": [],
   "source": [],
   "metadata": {
    "collapsed": false,
    "ExecuteTime": {
     "end_time": "2023-09-09T14:28:34.313256500Z",
     "start_time": "2023-09-09T14:28:34.304257100Z"
    }
   },
   "id": "97199e83606be48f"
  }
 ],
 "metadata": {
  "kernelspec": {
   "display_name": "Python 3",
   "language": "python",
   "name": "python3"
  },
  "language_info": {
   "codemirror_mode": {
    "name": "ipython",
    "version": 2
   },
   "file_extension": ".py",
   "mimetype": "text/x-python",
   "name": "python",
   "nbconvert_exporter": "python",
   "pygments_lexer": "ipython2",
   "version": "2.7.6"
  }
 },
 "nbformat": 4,
 "nbformat_minor": 5
}
