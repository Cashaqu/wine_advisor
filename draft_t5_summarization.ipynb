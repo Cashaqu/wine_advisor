{
 "cells": [
  {
   "cell_type": "code",
   "execution_count": 118,
   "outputs": [],
   "source": [
    "import pandas as pd"
   ],
   "metadata": {
    "collapsed": false,
    "ExecuteTime": {
     "end_time": "2023-09-06T20:17:18.627058700Z",
     "start_time": "2023-09-06T20:17:18.617059600Z"
    }
   },
   "id": "fc02a871d3842d6d"
  },
  {
   "cell_type": "code",
   "execution_count": 123,
   "outputs": [],
   "source": [
    "import torch\n",
    "from transformers import AutoTokenizer, AutoModelWithLMHead\n",
    "device = torch.device(\"cuda\" if torch.cuda.is_available() else \"cpu\")"
   ],
   "metadata": {
    "collapsed": false,
    "ExecuteTime": {
     "end_time": "2023-09-06T20:25:31.374579Z",
     "start_time": "2023-09-06T20:25:31.369579500Z"
    }
   },
   "id": "33e52c215851d0d3"
  },
  {
   "cell_type": "code",
   "execution_count": 124,
   "outputs": [
    {
     "name": "stderr",
     "output_type": "stream",
     "text": [
      "Exporting to onnx... |##########                      | 1/3"
     ]
    },
    {
     "name": "stdout",
     "output_type": "stream",
     "text": [
      "============== Diagnostic Run torch.onnx.export version 2.0.1+cpu ==============\n",
      "verbose: False, log level: Level.ERROR\n",
      "======================= 0 NONE 0 NOTE 0 WARNING 0 ERROR ========================\n"
     ]
    },
    {
     "name": "stderr",
     "output_type": "stream",
     "text": [
      "Exporting to onnx... |#####################           | 2/3"
     ]
    },
    {
     "name": "stdout",
     "output_type": "stream",
     "text": [
      "============== Diagnostic Run torch.onnx.export version 2.0.1+cpu ==============\n",
      "verbose: False, log level: Level.ERROR\n",
      "======================= 0 NONE 0 NOTE 0 WARNING 0 ERROR ========================\n"
     ]
    },
    {
     "name": "stderr",
     "output_type": "stream",
     "text": [
      "Exporting to onnx... |################################| 3/3\n",
      "\u001B[?25h\u001B[?25l\r"
     ]
    },
    {
     "name": "stdout",
     "output_type": "stream",
     "text": [
      "============== Diagnostic Run torch.onnx.export version 2.0.1+cpu ==============\n",
      "verbose: False, log level: Level.ERROR\n",
      "======================= 0 NONE 0 NOTE 0 WARNING 0 ERROR ========================\n"
     ]
    },
    {
     "ename": "TypeError",
     "evalue": "quantize_dynamic() got an unexpected keyword argument 'activation_type'",
     "output_type": "error",
     "traceback": [
      "\u001B[1;31m---------------------------------------------------------------------------\u001B[0m",
      "\u001B[1;31mTypeError\u001B[0m                                 Traceback (most recent call last)",
      "Cell \u001B[1;32mIn[124], line 5\u001B[0m\n\u001B[0;32m      1\u001B[0m \u001B[38;5;66;03m#tokenizer=AutoTokenizer.from_pretrained('T5-small')\u001B[39;00m\n\u001B[0;32m      2\u001B[0m \u001B[38;5;66;03m#model=AutoModelWithLMHead.from_pretrained('T5-small', return_dict=True).to(device)\u001B[39;00m\n\u001B[0;32m      4\u001B[0m model_name \u001B[38;5;241m=\u001B[39m \u001B[38;5;124m'\u001B[39m\u001B[38;5;124mt5-small\u001B[39m\u001B[38;5;124m'\u001B[39m\n\u001B[1;32m----> 5\u001B[0m model \u001B[38;5;241m=\u001B[39m \u001B[43mexport_and_get_onnx_model\u001B[49m\u001B[43m(\u001B[49m\u001B[43mmodel_name\u001B[49m\u001B[43m)\u001B[49m\n",
      "File \u001B[1;32mD:\\pycharm_projects\\wine\\venv\\lib\\site-packages\\fastT5\\onnx_models.py:199\u001B[0m, in \u001B[0;36mexport_and_get_onnx_model\u001B[1;34m(model_or_model_path, quantized)\u001B[0m\n\u001B[0;32m    195\u001B[0m onnx_model_paths \u001B[38;5;241m=\u001B[39m generate_onnx_representation(model_or_model_path)\n\u001B[0;32m    197\u001B[0m \u001B[38;5;28;01mif\u001B[39;00m quantized:\n\u001B[0;32m    198\u001B[0m     \u001B[38;5;66;03m# Step 2. (recommended) quantize the converted model for fast inference and to reduce model size.\u001B[39;00m\n\u001B[1;32m--> 199\u001B[0m     quant_model_paths \u001B[38;5;241m=\u001B[39m \u001B[43mquantize\u001B[49m\u001B[43m(\u001B[49m\u001B[43monnx_model_paths\u001B[49m\u001B[43m)\u001B[49m\n\u001B[0;32m    201\u001B[0m     \u001B[38;5;66;03m# step 3. setup onnx runtime\u001B[39;00m\n\u001B[0;32m    202\u001B[0m     \u001B[38;5;28mprint\u001B[39m(\u001B[38;5;124m\"\u001B[39m\u001B[38;5;124mSetting up onnx model...\u001B[39m\u001B[38;5;124m\"\u001B[39m)\n",
      "File \u001B[1;32mD:\\pycharm_projects\\wine\\venv\\lib\\site-packages\\fastT5\\onnx_exporter.py:266\u001B[0m, in \u001B[0;36mquantize\u001B[1;34m(models_name_or_path)\u001B[0m\n\u001B[0;32m    264\u001B[0m model_name \u001B[38;5;241m=\u001B[39m model\u001B[38;5;241m.\u001B[39mas_posix()\n\u001B[0;32m    265\u001B[0m output_model_name \u001B[38;5;241m=\u001B[39m \u001B[38;5;124mf\u001B[39m\u001B[38;5;124m\"\u001B[39m\u001B[38;5;132;01m{\u001B[39;00mmodel_name[:\u001B[38;5;241m-\u001B[39m\u001B[38;5;241m5\u001B[39m]\u001B[38;5;132;01m}\u001B[39;00m\u001B[38;5;124m-quantized.onnx\u001B[39m\u001B[38;5;124m\"\u001B[39m\n\u001B[1;32m--> 266\u001B[0m \u001B[43mquantize_dynamic\u001B[49m\u001B[43m(\u001B[49m\n\u001B[0;32m    267\u001B[0m \u001B[43m    \u001B[49m\u001B[43mmodel_input\u001B[49m\u001B[38;5;241;43m=\u001B[39;49m\u001B[43mmodel_name\u001B[49m\u001B[43m,\u001B[49m\n\u001B[0;32m    268\u001B[0m \u001B[43m    \u001B[49m\u001B[43mmodel_output\u001B[49m\u001B[38;5;241;43m=\u001B[39;49m\u001B[43moutput_model_name\u001B[49m\u001B[43m,\u001B[49m\n\u001B[0;32m    269\u001B[0m \u001B[43m    \u001B[49m\u001B[43mper_channel\u001B[49m\u001B[38;5;241;43m=\u001B[39;49m\u001B[38;5;28;43;01mTrue\u001B[39;49;00m\u001B[43m,\u001B[49m\n\u001B[0;32m    270\u001B[0m \u001B[43m    \u001B[49m\u001B[43mactivation_type\u001B[49m\u001B[38;5;241;43m=\u001B[39;49m\u001B[43mQuantType\u001B[49m\u001B[38;5;241;43m.\u001B[39;49m\u001B[43mQUInt8\u001B[49m\u001B[43m,\u001B[49m\n\u001B[0;32m    271\u001B[0m \u001B[43m    \u001B[49m\u001B[43mweight_type\u001B[49m\u001B[38;5;241;43m=\u001B[39;49m\u001B[43mQuantType\u001B[49m\u001B[38;5;241;43m.\u001B[39;49m\u001B[43mQUInt8\u001B[49m\u001B[43m,\u001B[49m\n\u001B[0;32m    272\u001B[0m \u001B[43m    \u001B[49m\u001B[43moptimize_model\u001B[49m\u001B[38;5;241;43m=\u001B[39;49m\u001B[38;5;28;43;01mFalse\u001B[39;49;00m\u001B[43m,\u001B[49m\n\u001B[0;32m    273\u001B[0m \u001B[43m\u001B[49m\u001B[43m)\u001B[49m  \u001B[38;5;66;03m# op_types_to_quantize=['MatMul', 'Relu', 'Add', 'Mul' ],\u001B[39;00m\n\u001B[0;32m    274\u001B[0m quant_model_paths\u001B[38;5;241m.\u001B[39mappend(output_model_name)\n\u001B[0;32m    275\u001B[0m bar\u001B[38;5;241m.\u001B[39mnext()\n",
      "\u001B[1;31mTypeError\u001B[0m: quantize_dynamic() got an unexpected keyword argument 'activation_type'"
     ]
    }
   ],
   "source": [
    "tokenizer=AutoTokenizer.from_pretrained('T5-small')\n",
    "model=AutoModelWithLMHead.from_pretrained('T5-small', return_dict=True).to(device)\n",
    "\n",
    "#model_name = 't5-small'\n",
    "#model = export_and_get_onnx_model(model_name)"
   ],
   "metadata": {
    "collapsed": false,
    "ExecuteTime": {
     "end_time": "2023-09-06T20:25:53.697050700Z",
     "start_time": "2023-09-06T20:25:40.128650200Z"
    }
   },
   "id": "29c946be511f1ffb"
  },
  {
   "cell_type": "code",
   "execution_count": 92,
   "outputs": [],
   "source": [
    "df = pd.read_csv('./data/wine_reviews.csv')"
   ],
   "metadata": {
    "collapsed": false,
    "ExecuteTime": {
     "end_time": "2023-09-06T19:56:10.528528400Z",
     "start_time": "2023-09-06T19:56:09.675554400Z"
    }
   },
   "id": "6a25ca9782a012c6"
  },
  {
   "cell_type": "code",
   "execution_count": 126,
   "outputs": [
    {
     "data": {
      "text/plain": "\"This is an aromatic brooder with aromas of scorched earth, plum, dried flowers and green herbs. It's full in feel with dense, dark-fruit flavors, tightly coiled tannins and tart acids—a pleasing example of the variety.\""
     },
     "execution_count": 126,
     "metadata": {},
     "output_type": "execute_result"
    }
   ],
   "source": [
    "df['description'][42]"
   ],
   "metadata": {
    "collapsed": false,
    "ExecuteTime": {
     "end_time": "2023-09-06T20:36:19.025421500Z",
     "start_time": "2023-09-06T20:36:19.000422100Z"
    }
   },
   "id": "c772f4272cb55c66"
  },
  {
   "cell_type": "code",
   "execution_count": 97,
   "outputs": [],
   "source": [
    "sequence = ('Right away this goes wrong; the nose is smothered with charred, burning oak that smells harsh and like chemicals.')"
   ],
   "metadata": {
    "collapsed": false,
    "ExecuteTime": {
     "end_time": "2023-09-06T19:57:04.279000700Z",
     "start_time": "2023-09-06T19:57:04.272990800Z"
    }
   },
   "id": "88226a062bc65d50"
  },
  {
   "cell_type": "code",
   "execution_count": 98,
   "outputs": [],
   "source": [
    "inputs = tokenizer.encode(\"summarize: \" + sequence, return_tensors = 'pt', max_length = 256, truncation = True).to(device)"
   ],
   "metadata": {
    "collapsed": false,
    "ExecuteTime": {
     "end_time": "2023-09-06T19:57:05.711712700Z",
     "start_time": "2023-09-06T19:57:05.706708500Z"
    }
   },
   "id": "59dd09cda2edd289"
  },
  {
   "cell_type": "code",
   "execution_count": 99,
   "outputs": [],
   "source": [
    "output = model.generate(inputs, min_length = 50, max_length = 100).to(device)"
   ],
   "metadata": {
    "collapsed": false,
    "ExecuteTime": {
     "end_time": "2023-09-06T19:57:10.529783400Z",
     "start_time": "2023-09-06T19:57:09.513815700Z"
    }
   },
   "id": "cfc3acc89344d9a9"
  },
  {
   "cell_type": "code",
   "execution_count": 111,
   "outputs": [
    {
     "name": "stdout",
     "output_type": "stream",
     "text": [
      "<pad> 100% varietal wine hails from Oakville and was aged over three years in oak. framed by elegant, fine tannins and a subtle minty tone in the background.</s>\n",
      "<pad> fig, blackberry and cassis are softened and sweetened by a slathering of oaky chocolate and vanilla. a toasty, everlasting finish is heady but ideally balanced.</s>\n",
      "<pad> toasted hazelnut, pear compote and orange peel flavors. 122 g/L of residual sugar.</s>\n",
      "<pad> this spent 20 months in 30% new French oak. blends aromas and flavors of toast, cigar box, blackberry, black cherry, coffee and graphite.</s>\n",
      "<pad> this is the top wine from La Bégude, named after the highest point in the vineyard at 1200 feet. it has structure, density and considerable acidity that is still calming down. produced by the Tari family, formerly of Château Giscours in Margaux, it is a wine made for aging.</s>\n",
      "<pad> deep, dense and pure from the opening bell, this Toro is a winner. aromas of dark ripe black fruits are cool and moderately oaked.</s>\n",
      "<pad> black-fruit aromas include a sweet note of pastry along with a hint of prune. wall-to-wall saturation ensures that all corners of one's mouth are covered.</s>\n",
      "<pad> chocolate is a key flavor, while baked berry and cassis flavors are hardly wallflowers. this bruiser is massive and tannic on the palate, but still lush and friendly.</s>\n",
      "<pad> this re-named vineyard was formerly bottled as deLancellotti. you'll find striking minerality underscoring chunky black fruits.</s>\n",
      "<pad> cranberry, pomegranate and orange peel flavors surround silky, succulent layers of texture that present as fleshy fruit. that delicately lush flavor has considerable length.</s>\n"
     ]
    }
   ],
   "source": [
    "# from tqdm import tqdm\n",
    "des_list = df['description'].tolist()\n",
    "k = 10\n",
    "for sequence in range(len(des_list)):\n",
    "    inputs = tokenizer.encode(\"summarize: \" + des_list[sequence], return_tensors = 'pt', max_length = 512, truncation = False).to(device)\n",
    "    output = model.generate(inputs, min_length = 10, max_length = 100, num_beams = 4).to(device)\n",
    "    summary = tokenizer.decode(output[0])\n",
    "    print(summary)\n",
    "    k -= 1\n",
    "    if k == 0:\n",
    "        break"
   ],
   "metadata": {
    "collapsed": false,
    "ExecuteTime": {
     "end_time": "2023-09-06T20:11:14.777414400Z",
     "start_time": "2023-09-06T20:11:01.315824500Z"
    }
   },
   "id": "16082dac5759f9ab"
  },
  {
   "cell_type": "code",
   "execution_count": 106,
   "outputs": [
    {
     "data": {
      "text/plain": "'Right away this goes wrong; the nose is smothered with charred, burning oak that smells harsh and like chemicals. A tannic, resiny palate is barely acceptable, as are bitter, burnt, resiny blackberry flavors.'"
     },
     "execution_count": 106,
     "metadata": {},
     "output_type": "execute_result"
    }
   ],
   "source": [
    "des_list[10000]"
   ],
   "metadata": {
    "collapsed": false,
    "ExecuteTime": {
     "end_time": "2023-09-06T20:04:59.935039Z",
     "start_time": "2023-09-06T20:04:59.924040400Z"
    }
   },
   "id": "d0601174d76c69aa"
  },
  {
   "cell_type": "code",
   "execution_count": 79,
   "outputs": [
    {
     "name": "stdout",
     "output_type": "stream",
     "text": [
      "<pad> a large-scale transformer-based language model has achieved state-of-the-art results on various NLP tasks. the model is pre-trained on a mixture of unsupervised and supervised tasks in a multi-task setting. they converted each task into a text-to-text format.</s>\n"
     ]
    }
   ],
   "source": [
    "summary = tokenizer.decode(output[0])\n",
    "print(summary)"
   ],
   "metadata": {
    "collapsed": false,
    "ExecuteTime": {
     "end_time": "2023-09-06T17:12:32.942856900Z",
     "start_time": "2023-09-06T17:12:32.935858Z"
    }
   },
   "id": "4f2af384f99d92ea"
  },
  {
   "cell_type": "code",
   "execution_count": 74,
   "outputs": [
    {
     "data": {
      "text/plain": "'Ripe aromas of fig, blackberry and cassis are softened and sweetened by a slathering of oaky chocolate and vanilla. This is full, layered, intense and cushioned on the palate, with rich flavors of chocolaty black fruits and baking spices. A toasty, everlasting finish is heady but ideally balanced. Drink through 2023.'"
     },
     "execution_count": 74,
     "metadata": {},
     "output_type": "execute_result"
    }
   ],
   "source": [
    "df['description'][1]"
   ],
   "metadata": {
    "collapsed": false,
    "ExecuteTime": {
     "end_time": "2023-09-06T17:09:04.987198900Z",
     "start_time": "2023-09-06T17:09:04.970201900Z"
    }
   },
   "id": "fbc1938d523c540"
  },
  {
   "cell_type": "code",
   "execution_count": 108,
   "outputs": [
    {
     "data": {
      "text/plain": "44.44444444444444"
     },
     "execution_count": 108,
     "metadata": {},
     "output_type": "execute_result"
    }
   ],
   "source": [
    "(160000*1)/60/60"
   ],
   "metadata": {
    "collapsed": false,
    "ExecuteTime": {
     "end_time": "2023-09-06T20:06:44.090423100Z",
     "start_time": "2023-09-06T20:06:44.083413Z"
    }
   },
   "id": "31d6e02043512937"
  },
  {
   "cell_type": "code",
   "execution_count": 75,
   "outputs": [],
   "source": [],
   "metadata": {
    "collapsed": false,
    "ExecuteTime": {
     "end_time": "2023-09-06T17:09:05.033198Z",
     "start_time": "2023-09-06T17:09:04.997198700Z"
    }
   },
   "id": "df332fb5c436f679"
  }
 ],
 "metadata": {
  "kernelspec": {
   "display_name": "Python 3",
   "language": "python",
   "name": "python3"
  },
  "language_info": {
   "codemirror_mode": {
    "name": "ipython",
    "version": 2
   },
   "file_extension": ".py",
   "mimetype": "text/x-python",
   "name": "python",
   "nbconvert_exporter": "python",
   "pygments_lexer": "ipython2",
   "version": "2.7.6"
  }
 },
 "nbformat": 4,
 "nbformat_minor": 5
}
